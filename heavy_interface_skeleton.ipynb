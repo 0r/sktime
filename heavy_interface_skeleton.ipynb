{
 "cells": [
  {
   "cell_type": "markdown",
   "metadata": {},
   "source": [
    "## High-level interface design\n",
    "\n",
    "In this design, the `strategy` class wraps the standard `estimator` class from scikit-learn. The task class encapsulates the data preprocessing that is needed to separate the feature data and to derive the target variable. The task object is a [visitor](https://en.wikipedia.org/wiki/Visitor_pattern) to the strategy class, adding new operations to the existent estimator object without modifying the estimator itself. In particular, it adds new operations to the `fit()` and `predict()` method before calling the estimator's `fit()` and `predict()` method. For a more detailed description, see https://github.com/kiraly-group/sktime/issues/1. "
   ]
  },
  {
   "cell_type": "code",
   "execution_count": 62,
   "metadata": {},
   "outputs": [],
   "source": [
    "from abc import ABC, abstractmethod\n",
    "from sklearn.base import BaseEstimator\n",
    "NOT_IMPLEMENTED = \"Needs to be implemented.\"\n",
    "\n",
    "        \n",
    "class TSClassifier(BaseEstimator):\n",
    "    def fit(self, data):\n",
    "        print(f'Fitting classifier on data with {data.nrows} rows.')\n",
    "        \n",
    "    def predict(self, data):\n",
    "        print(f'Predicting {data.nrows} rows.')\n",
    "\n",
    "\n",
    "class BaseTask(ABC):\n",
    "    def __init__(self, data=None, specs=None):\n",
    "        self.data = data\n",
    "        self.specs = specs\n",
    "        print('Specifying task.')\n",
    "\n",
    "    @abstractmethod\n",
    "    def setup_fit(self):\n",
    "        raise NotImplementedError(NOT_IMPLEMENTED)\n",
    "        \n",
    "    @abstractmethod\n",
    "    def setup_predict(self):\n",
    "        raise NotImplementedError(NOT_IMPLEMENTED)\n",
    "\n",
    "        \n",
    "class Task(BaseTask):\n",
    "    def setup_fit(self):\n",
    "        print('Setting up task for fitting.')\n",
    "                \n",
    "    def setup_predict(self):\n",
    "        print('Setting up task for predicting.')\n",
    "        \n",
    "        \n",
    "class BaseStrategy(ABC):\n",
    "    def __init__(self, estimator):\n",
    "        self.estimator = estimator\n",
    "        self.task = None\n",
    "    \n",
    "    @abstractmethod\n",
    "    def fit(self, task, data=None):\n",
    "        raise NotImplementedError(NOT_IMPLEMENTED)\n",
    "        \n",
    "    @abstractmethod\n",
    "    def predict(self, data=None):\n",
    "        raise NotImplementedError(NOT_IMPLEMENTED)\n",
    "    \n",
    "    def set_params(self):\n",
    "        self.estimator.set_params()\n",
    "        \n",
    "    def get_params(self):\n",
    "        self.estimator.get_params()\n",
    "        \n",
    "        \n",
    "class Strategy(BaseStrategy):\n",
    "    def fit(self, task, data=None):\n",
    "        self.task = task\n",
    "        \n",
    "        task.setup_fit()\n",
    "        if data is None:\n",
    "            data = task.data\n",
    "        self.estimator.fit(data)\n",
    "    \n",
    "    def predict(self, data=None):\n",
    "        if data is None:\n",
    "            data = self.task.data\n",
    "        self.task.setup_predict()\n",
    "        self.estimator.predict(data)\n",
    "\n",
    "\n",
    "class XPandas:\n",
    "    def __init__(self, nrows):\n",
    "        self.nrows = nrows"
   ]
  },
  {
   "cell_type": "code",
   "execution_count": 63,
   "metadata": {},
   "outputs": [
    {
     "name": "stdout",
     "output_type": "stream",
     "text": [
      "Specifying task.\n",
      "Setting up task for fitting.\n",
      "Fitting classifier on data with 100 rows.\n",
      "Setting up task for predicting.\n",
      "Predicting 100 rows.\n"
     ]
    }
   ],
   "source": [
    "data = XPandas(nrows=100)\n",
    "estimator = TSClassifier()\n",
    "task = Task(data)\n",
    "strategy = Strategy(estimator)     \n",
    "strategy.fit(task)\n",
    "strategy.predict()"
   ]
  },
  {
   "cell_type": "code",
   "execution_count": null,
   "metadata": {},
   "outputs": [],
   "source": []
  },
  {
   "cell_type": "markdown",
   "metadata": {},
   "source": [
    "## Benchmarking interface?"
   ]
  },
  {
   "cell_type": "code",
   "execution_count": 43,
   "metadata": {},
   "outputs": [],
   "source": [
    "def benchmark(task, datasets, outer_cv, strategies, metrics):\n",
    "    for dataset in datasets:\n",
    "        for train, test in outer_cv.split(dataset):\n",
    "            for strategy in strategies:\n",
    "                strategy.fit(task, train)\n",
    "                y_pred, y_test = strategy.predict(task, test) \n",
    "                for metric in metrics: \n",
    "                    mean, var, stderr = metric(y_pred, y_test)"
   ]
  },
  {
   "cell_type": "code",
   "execution_count": null,
   "metadata": {},
   "outputs": [],
   "source": [
    "data = XPandas(nrows=100)\n",
    "task = Task() # without data\n",
    "strategy = Strategy(estimator)\n",
    "cv = Kfold()\n",
    "metrics = [mae, mse]\n",
    "benchmark(task, data, cv, strategy, metrics)"
   ]
  },
  {
   "cell_type": "code",
   "execution_count": null,
   "metadata": {},
   "outputs": [],
   "source": []
  },
  {
   "cell_type": "code",
   "execution_count": null,
   "metadata": {},
   "outputs": [],
   "source": []
  },
  {
   "cell_type": "markdown",
   "metadata": {},
   "source": [
    "## Interface design with feature-target window splits"
   ]
  },
  {
   "cell_type": "code",
   "execution_count": 47,
   "metadata": {},
   "outputs": [],
   "source": [
    "from abc import ABCMeta, abstractmethod\n",
    "from sklearn.base import BaseEstimator\n",
    "\n",
    "        \n",
    "class TSClassifier(BaseEstimator):\n",
    "    def fit(self, X, y):\n",
    "        print(f'Fitting classifier on data with {data.nrows} rows.')\n",
    "        \n",
    "    def predict(self, X, y):\n",
    "        print(f'Predicting {data.nrows} rows.')\n",
    "\n",
    "        \n",
    "class Task:\n",
    "    def __init__(self, data, specs=None):\n",
    "        self.data = data\n",
    "        self.specs = specs\n",
    "        print('Specifying task.')\n",
    "    \n",
    "    def setup_fit(self):\n",
    "        print('Setting up task for fitting.')\n",
    "        X, y = split_in_time(data)\n",
    "        return X, y\n",
    "    \n",
    "    def setup_predict(self):\n",
    "        print('Setting up task for predicting.')\n",
    "        X, y = split_in_time(data)\n",
    "        return X, y\n",
    "    \n",
    "        \n",
    "NOT_IMPLEMENTED = \"Needs to be implemented.\"\n",
    "class BaseStrategy:\n",
    "    __metaclass__ = ABCMeta\n",
    "    @abstractmethod\n",
    "    def __init__(self, estimator):\n",
    "        self.estimator = estimator\n",
    "        self.task = None\n",
    "    \n",
    "    @abstractmethod\n",
    "    def fit(self, task, data=None):\n",
    "        raise NotImplementedError(NOT_IMPLEMENTED)\n",
    "        \n",
    "    @abstractmethod\n",
    "    def predict(self, data=None):\n",
    "        raise NotImplementedError(NOT_IMPLEMENTED)\n",
    "    \n",
    "    @abstractmethod\n",
    "    def set_params(self):\n",
    "        self.estimator.set_params()\n",
    "        \n",
    "    @abstractmethod\n",
    "    def get_params(self):\n",
    "        self.estimator.get_params()\n",
    "        \n",
    "        \n",
    "class Strategy(BaseStrategy):\n",
    "    def fit(self, task, data=None):\n",
    "        self.task = task\n",
    "        \n",
    "        if data is None:\n",
    "            data = task.data\n",
    "\n",
    "        X, y = task.setup_fit()\n",
    "        self.estimator.fit(X, y)\n",
    "    \n",
    "    def predict(self, data=None):\n",
    "        if data is None:\n",
    "            data = self.task.data\n",
    "            \n",
    "        X, y = self.task.setup_predict()\n",
    "        estimator.predict(X, y)\n",
    "\n",
    "\n",
    "class XPandas:\n",
    "    def __init__(self, nrows):\n",
    "        self.nrows = nrows\n",
    "        \n",
    "        \n",
    "def split_in_time(data, columns=None, window=None, target_test_window=False):\n",
    "    feature = XPandas(nrows=data.nrows)\n",
    "    target_train = XPandas(nrows=data.nrows)\n",
    "    if target_test_window:\n",
    "        target_test = XPandas(nrows=data.nrows)\n",
    "        return feature, target_train, target_test\n",
    "    return feature, target_train"
   ]
  },
  {
   "cell_type": "code",
   "execution_count": 48,
   "metadata": {},
   "outputs": [
    {
     "name": "stdout",
     "output_type": "stream",
     "text": [
      "Specifying task.\n",
      "Setting up task for fitting.\n",
      "Fitting classifier on data with 100 rows.\n",
      "Setting up task for predicting.\n",
      "Predicting 100 rows.\n"
     ]
    }
   ],
   "source": [
    "data = XPandas(nrows=100)\n",
    "estimator = TSClassifier()\n",
    "task = Task(data)\n",
    "strategy = Strategy(estimator)     \n",
    "strategy.fit(task)\n",
    "strategy.predict()"
   ]
  },
  {
   "cell_type": "code",
   "execution_count": null,
   "metadata": {},
   "outputs": [],
   "source": []
  },
  {
   "cell_type": "code",
   "execution_count": null,
   "metadata": {},
   "outputs": [],
   "source": []
  }
 ],
 "metadata": {
  "kernelspec": {
   "display_name": "Python 3",
   "language": "python",
   "name": "python3"
  },
  "language_info": {
   "codemirror_mode": {
    "name": "ipython",
    "version": 3
   },
   "file_extension": ".py",
   "mimetype": "text/x-python",
   "name": "python",
   "nbconvert_exporter": "python",
   "pygments_lexer": "ipython3",
   "version": "3.7.1"
  }
 },
 "nbformat": 4,
 "nbformat_minor": 2
}
