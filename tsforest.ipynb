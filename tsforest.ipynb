{
 "cells": [
  {
   "cell_type": "markdown",
   "metadata": {},
   "source": [
    "## Implementing TimeSeriesRandomClassifier\n",
    "Open sklearn `RandomForestClassifier` to accept pipelines as `base_estimator`, this required to \n",
    "* create `RandomIntervalFeatureExtractor` transformer\n",
    "* change how parameters are set in construction of individual member of ensemble \n",
    "* pass on random state from top-level to all components of pipeline with randomness, including modifying `Pipeline` to have random_state attribute\n",
    "* adapt sklearn helper functions for parallel building and accumulating predictions of trees\n",
    "* remove sklearn input checks for tabular data in parent classes\n",
    "\n",
    "Still to do:\n",
    "* write unit tests\n",
    "* ideally replace tabular-data input checks with time-series/panel checks, possibly implemented as part of the data-container, also may be worthwile including keyword argument in pipeline to sidestep input checks in members of ensembles similar to check_input in sklearn `DecisionTreeClassifier`\n",
    "* `feature_importances_` has to be removed, or adapted to a temporal importance curve (as in the paper)\n",
    "* `decision_path()` has to be adapted\n",
    "* `oob_score` methods have to be removed/adapted\n",
    "* `apply` method has to be removed/adapted\n",
    "* speed up transfoms, still very slow\n",
    "* implement \"entrance\" criterion (as in paper)"
   ]
  },
  {
   "cell_type": "code",
   "execution_count": 1,
   "metadata": {},
   "outputs": [],
   "source": [
    "from sktime.tsforest import TimeSeriesForestClassifier\n",
    "from sktime.load_data import load_from_web_to_xdataframe\n",
    "import pandas as pd\n",
    "%load_ext autoreload\n",
    "%autoreload 2"
   ]
  },
  {
   "cell_type": "code",
   "execution_count": 2,
   "metadata": {},
   "outputs": [
    {
     "name": "stdout",
     "output_type": "stream",
     "text": [
      "(50, 1) (50,) (150, 1) (150,)\n"
     ]
    }
   ],
   "source": [
    "cache_path = 'data/'\n",
    "dataset_name = 'GunPoint'\n",
    "X_train, y_train = load_from_web_to_xdataframe(dataset_name, is_train_file=True,\n",
    "                                               cache_path=cache_path) \n",
    "X_test, y_test = load_from_web_to_xdataframe(dataset_name, is_test_file=True,\n",
    "                                             cache_path=cache_path)\n",
    "X_train = pd.DataFrame(X_train)\n",
    "y_train = pd.Series(y_train)\n",
    "X_test = pd.DataFrame(X_test)\n",
    "y_test = pd.Series(y_test)\n",
    "print(X_train.shape, y_train.shape, X_test.shape, y_test.shape)"
   ]
  },
  {
   "cell_type": "code",
   "execution_count": 7,
   "metadata": {},
   "outputs": [
    {
     "name": "stdout",
     "output_type": "stream",
     "text": [
      "CPU times: user 15 s, sys: 16.4 ms, total: 15 s\n",
      "Wall time: 15 s\n",
      "CPU times: user 42.5 s, sys: 67.9 ms, total: 42.6 s\n",
      "Wall time: 42.6 s\n"
     ]
    },
    {
     "data": {
      "text/plain": [
       "0.8733333333333333"
      ]
     },
     "execution_count": 7,
     "metadata": {},
     "output_type": "execute_result"
    }
   ],
   "source": [
    "from sktime.tsforest import TimeSeriesForestClassifier\n",
    "clf = TimeSeriesForestClassifier(n_estimators=100, criterion='entropy')\n",
    "%time clf.fit(X_train, y_train)\n",
    "%time clf.score(X_test, y_test)"
   ]
  },
  {
   "cell_type": "code",
   "execution_count": 5,
   "metadata": {},
   "outputs": [
    {
     "name": "stdout",
     "output_type": "stream",
     "text": [
      "CPU times: user 15.6 s, sys: 384 ms, total: 16 s\n",
      "Wall time: 15.7 s\n",
      "CPU times: user 43.9 s, sys: 824 ms, total: 44.7 s\n",
      "Wall time: 43.9 s\n"
     ]
    },
    {
     "data": {
      "text/plain": [
       "0.84"
      ]
     },
     "execution_count": 5,
     "metadata": {},
     "output_type": "execute_result"
    }
   ],
   "source": [
    "clf = TimeSeriesForestClassifier(n_estimators=100, criterion='entropy', n_jobs=-1)\n",
    "%time clf.fit(X_train, y_train)\n",
    "%time clf.score(X_test, y_test)"
   ]
  },
  {
   "cell_type": "code",
   "execution_count": null,
   "metadata": {},
   "outputs": [],
   "source": []
  }
 ],
 "metadata": {
  "kernelspec": {
   "display_name": "Python 3",
   "language": "python",
   "name": "python3"
  },
  "language_info": {
   "codemirror_mode": {
    "name": "ipython",
    "version": 3
   },
   "file_extension": ".py",
   "mimetype": "text/x-python",
   "name": "python",
   "nbconvert_exporter": "python",
   "pygments_lexer": "ipython3",
   "version": "3.7.1"
  }
 },
 "nbformat": 4,
 "nbformat_minor": 2
}
