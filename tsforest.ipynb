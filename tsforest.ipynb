{
 "cells": [
  {
   "cell_type": "markdown",
   "metadata": {},
   "source": [
    "## Implementing TimeSeriesRandomClassifier\n",
    "* create `RandomIntervalFeatureExtractor` transformer\n",
    "* inherit from `ForestClassifier`, adapt to handle pipelines as individual trees, modifying `fit` and `predict_proba` methods\n",
    "* adapt `Pipeline` to handle `random_state`, propagate to all pipeline components with randomness, and `check_input` to deactivate input checks for all of its components\n",
    "* adapt sklearn helper functions `_parallel_build_trees` (booststrapping) and `_accumulate_predictions` \n",
    "* minor modification of `set_oob_scores` to handle pandas df as input\n",
    "\n",
    "To do:\n",
    "* unit tests\n",
    "* extend `RandomIntervalFeatureExtractor` interface to accept arbitrary function, optionally with additional args passed to the function\n",
    "* ideally replace tabular-data input checks with time-series/panel data checks, possibly implemented as part of the data-container\n",
    "* `feature_importances_` has to be adapted (e.g. as temporal importance curve as in the paper)\n",
    "* `decision_path()` has to be adapted\n",
    "* `apply` method has to be adapted\n",
    "* parallelise, change from threading to multi-processing? - currently no speed up when using multiple CPUs\n",
    "* implement \"entrance\" criterion (as in paper)"
   ]
  },
  {
   "cell_type": "code",
   "execution_count": 1,
   "metadata": {},
   "outputs": [],
   "source": [
    "%load_ext autoreload\n",
    "%autoreload 2\n",
    "\n",
    "from sktime.classifiers.ensemble import TimeSeriesForestClassifier\n",
    "from sktime.transformers.series_to_tabular import RandomIntervalFeatureExtractor\n",
    "from sklearn.tree import DecisionTreeClassifier\n",
    "from sktime.pipeline import TSPipeline\n",
    "from sktime.utils.load_data import load_from_web_to_xdataframe\n",
    "import pandas as pd\n",
    "import numpy as np\n",
    "from numba import jit"
   ]
  },
  {
   "cell_type": "code",
   "execution_count": 2,
   "metadata": {},
   "outputs": [
    {
     "name": "stdout",
     "output_type": "stream",
     "text": [
      "(50, 1) (50,) (150, 1) (150,)\n"
     ]
    }
   ],
   "source": [
    "cache_path = 'data/'\n",
    "dataset_name = 'GunPoint'\n",
    "X_train, y_train = load_from_web_to_xdataframe(dataset_name, is_train_file=True,\n",
    "                                               cache_path=cache_path) \n",
    "X_test, y_test = load_from_web_to_xdataframe(dataset_name, is_test_file=True,\n",
    "                                             cache_path=cache_path)\n",
    "X_train = pd.DataFrame(X_train)\n",
    "y_train = pd.Series(y_train)\n",
    "X_test = pd.DataFrame(X_test)\n",
    "y_test = pd.Series(y_test)\n",
    "print(X_train.shape, y_train.shape, X_test.shape, y_test.shape)"
   ]
  },
  {
   "cell_type": "code",
   "execution_count": 3,
   "metadata": {},
   "outputs": [],
   "source": [
    "@jit # simple but effective optimisation \n",
    "def time_series_slope(y):\n",
    "    n = y.shape[0]\n",
    "    if n < 2:\n",
    "        return 0\n",
    "    else:\n",
    "        x = np.arange(n) + 1\n",
    "        x_mu = x.mean()\n",
    "        return (((x * y).mean() - x_mu * y.mean())\n",
    "                / ((x ** 2).mean() - x_mu ** 2))"
   ]
  },
  {
   "cell_type": "code",
   "execution_count": 4,
   "metadata": {},
   "outputs": [],
   "source": [
    "from sktime.classifiers.ensemble import TimeSeriesForestClassifier\n",
    "from sktime.transformers.series_to_tabular import RandomIntervalFeatureExtractor\n",
    "from sklearn.tree import DecisionTreeClassifier\n",
    "from sktime.pipeline import TSPipeline\n",
    "features = [np.mean, np.std, time_series_slope]\n",
    "steps = [('transform', RandomIntervalFeatureExtractor(n_intervals='sqrt', features=features)), \n",
    "         ('clf', DecisionTreeClassifier())]\n",
    "base_estimator = TSPipeline(steps)\n",
    "clf = TimeSeriesForestClassifier(base_estimator=base_estimator, \n",
    "                                 n_estimators=500, \n",
    "                                 bootstrap=False,\n",
    "                                 oob_score=False,\n",
    "                                 n_jobs=1,\n",
    "                                 random_state=444)"
   ]
  },
  {
   "cell_type": "code",
   "execution_count": 5,
   "metadata": {},
   "outputs": [
    {
     "data": {
      "text/plain": [
       "TimeSeriesForestClassifier(base_estimator=TSPipeline(check_input=False, memory=None, random_state=444,\n",
       "      steps=[('transform', RandomIntervalFeatureExtractor(check_input=False,\n",
       "                features=[<function mean at 0x10d333ae8>, <function std at 0x10d333b70>, CPUDispatcher(<function time_series_slope at 0x11a47fd90>)],\n",
       "                n_intervals='sqrt', random_state=444)), ('clf', DecisionTreeCla...       min_weight_fraction_leaf=0.0, presort=False, random_state=444,\n",
       "            splitter='best'))]),\n",
       "              bootstrap=False, check_input=True, class_weight=None,\n",
       "              criterion=None, max_depth=None, max_features=None,\n",
       "              max_leaf_nodes=None, min_impurity_decrease=None,\n",
       "              min_impurity_split=None, min_samples_leaf=None,\n",
       "              min_samples_split=None, min_weight_fraction_leaf=None,\n",
       "              n_estimators=500, n_jobs=1, oob_score=False,\n",
       "              random_state=444, verbose=0, warm_start=False)"
      ]
     },
     "execution_count": 5,
     "metadata": {},
     "output_type": "execute_result"
    }
   ],
   "source": [
    "clf.fit(X_train, y_train)"
   ]
  },
  {
   "cell_type": "code",
   "execution_count": 6,
   "metadata": {},
   "outputs": [
    {
     "data": {
      "text/plain": [
       "0.9666666666666667"
      ]
     },
     "execution_count": 6,
     "metadata": {},
     "output_type": "execute_result"
    }
   ],
   "source": [
    "clf.score(X_test, y_test)"
   ]
  },
  {
   "cell_type": "code",
   "execution_count": null,
   "metadata": {},
   "outputs": [],
   "source": []
  }
 ],
 "metadata": {
  "kernelspec": {
   "display_name": "Python 3",
   "language": "python",
   "name": "python3"
  },
  "language_info": {
   "codemirror_mode": {
    "name": "ipython",
    "version": 3
   },
   "file_extension": ".py",
   "mimetype": "text/x-python",
   "name": "python",
   "nbconvert_exporter": "python",
   "pygments_lexer": "ipython3",
   "version": "3.7.1"
  }
 },
 "nbformat": 4,
 "nbformat_minor": 2
}
