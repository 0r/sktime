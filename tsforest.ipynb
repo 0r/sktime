{
 "cells": [
  {
   "cell_type": "markdown",
   "metadata": {},
   "source": [
    "## Implementing TimeSeriesRandomForestClassifier\n",
    "Open sklearn `RandomForestClassifier` to accept pipelines as `base_estimator`, this required to \n",
    "* change how parameters are set in construction of individual member of ensemble \n",
    "* pass on random state from top-level to all components of pipeline with randomness, including modifying `Pipeline` to have random_state attribute\n",
    "* adapt sklearn helper functions for parallel building and accumulating predictions of trees\n",
    "* remove sklearn input checks for tabular data, ideally replace with input checks for time-series/panel data, possibly implemented as part of datacontainer, include keyword argument to sidestep input checks in members of ensembles similar to check_input in sklearn `DecisionTreeClassifier`\n",
    "\n",
    "Still to do:\n",
    "* write unit test\n",
    "* `feature_importances_` has to be removed or adapted to a temporal importance curve (as in the paper)\n",
    "* `decision_path()` has to be adapted\n",
    "* `oob_score` methods have to be adapted\n",
    "* `apply` method has to be adapted\n",
    "* speed up transfoms, still very slow"
   ]
  },
  {
   "cell_type": "code",
   "execution_count": 5,
   "metadata": {},
   "outputs": [
    {
     "name": "stdout",
     "output_type": "stream",
     "text": [
      "The autoreload extension is already loaded. To reload it, use:\n",
      "  %reload_ext autoreload\n"
     ]
    }
   ],
   "source": [
    "from sktime.tsforest import TimeSeriesForest\n",
    "from sktime.load_data import load_from_web_to_xdataframe\n",
    "import pandas as pd\n",
    "\n",
    "%load_ext autoreload\n",
    "%autoreload 2"
   ]
  },
  {
   "cell_type": "code",
   "execution_count": 6,
   "metadata": {},
   "outputs": [
    {
     "name": "stdout",
     "output_type": "stream",
     "text": [
      "(50, 1) (50,) (150, 1) (150,)\n"
     ]
    }
   ],
   "source": [
    "cache_path = 'data/'\n",
    "dataset_name = 'GunPoint'\n",
    "X_train, y_train = load_from_web_to_xdataframe(dataset_name, is_train_file=True,\n",
    "                                               cache_path=cache_path) \n",
    "X_test, y_test = load_from_web_to_xdataframe(dataset_name, is_test_file=True,\n",
    "                                             cache_path=cache_path)\n",
    "X_train = pd.DataFrame(X_train)\n",
    "y_train = pd.Series(y_train)\n",
    "X_test = pd.DataFrame(X_test)\n",
    "y_test = pd.Series(y_test)\n",
    "print(X_train.shape, y_train.shape, X_test.shape, y_test.shape)"
   ]
  },
  {
   "cell_type": "code",
   "execution_count": 7,
   "metadata": {},
   "outputs": [
    {
     "name": "stdout",
     "output_type": "stream",
     "text": [
      "CPU times: user 3.84 s, sys: 10.1 ms, total: 3.85 s\n",
      "Wall time: 3.84 s\n",
      "CPU times: user 10.8 s, sys: 34.5 ms, total: 10.9 s\n",
      "Wall time: 10.9 s\n"
     ]
    },
    {
     "data": {
      "text/plain": [
       "0.9133333333333333"
      ]
     },
     "execution_count": 7,
     "metadata": {},
     "output_type": "execute_result"
    }
   ],
   "source": [
    "clf = TimeSeriesForest(n_estimators=2, criterion='entropy', random_state=123)\n",
    "%time clf.fit(X_train, y_train)\n",
    "%time clf.score(X_test, y_test)"
   ]
  },
  {
   "cell_type": "code",
   "execution_count": null,
   "metadata": {},
   "outputs": [],
   "source": []
  },
  {
   "cell_type": "code",
   "execution_count": null,
   "metadata": {},
   "outputs": [],
   "source": []
  }
 ],
 "metadata": {
  "kernelspec": {
   "display_name": "Python 3",
   "language": "python",
   "name": "python3"
  },
  "language_info": {
   "codemirror_mode": {
    "name": "ipython",
    "version": 3
   },
   "file_extension": ".py",
   "mimetype": "text/x-python",
   "name": "python",
   "nbconvert_exporter": "python",
   "pygments_lexer": "ipython3",
   "version": "3.7.1"
  }
 },
 "nbformat": 4,
 "nbformat_minor": 2
}
