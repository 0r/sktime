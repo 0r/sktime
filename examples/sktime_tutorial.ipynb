{
 "cells": [
  {
   "cell_type": "markdown",
   "metadata": {},
   "source": [
    "# sktime tutorial\n",
    "\n",
    "We present [sktime](https://github.com/alan-turing-institute/sktime), a new scikit-learn compatible Python toolbox for machine learning with time series. \n",
    "\n",
    "The tutorial consists of two parts: \n",
    "1. Representing time series data\n",
    "\n",
    "2. Time series classification"
   ]
  },
  {
   "cell_type": "code",
   "execution_count": 8,
   "metadata": {},
   "outputs": [],
   "source": [
    "import numpy as np\n",
    "import pandas as pd\n",
    "import matplotlib.pyplot as plt\n",
    "%matplotlib inline"
   ]
  },
  {
   "cell_type": "markdown",
   "metadata": {},
   "source": [
    "## 1. Representing time series data\n",
    "\n",
    "### How does sktime represent time series?\n",
    "Time series data comes in many different forms and there are many different ways to represent them. There is currently no consensus on how to best represent time series data for the purpose of modelling and evaluating machine learning workflows. \n",
    "\n",
    "For the purpose of machine learning with time series, the common formats of representing time series have drawbacks. Following scikit-learn and standard mathematical notation, we store time series in tables with rows representing i.i.d. instances and columns representing different variables (i.e. different kinds of measurements), but crucially, we extend the standard representation by allowing variables to not only represent primitive values (e.g. integers, floats and strings) but also entire series. \n",
    "\n",
    "To do this, sktime uses [pandas](https://pandas.pydata.org) data containers, but in a slightly different way than the intended usage. Pandas data containers are designed to store primitive data types in their cells, e.g. integers, floats or strings. Technically, however, pandas cells can store arbitrary types. Inspired by [xpandas](https://github.com/alan-turing-institute/xpandas), we exploit this possibility to store not just primitive types, but entire series in cells. This gives us a very flexible representation of time series data. It enables us to represent time heterogenous series, i.e. series which do not share a common time index across instances and/or variables. At the same time, we can still make use of most of pandas' functionality and familiar interface. Nevertheless, there are a number of disadvantages, which we try to address in future work. \n",
    "\n",
    "Much of the disucssion around the data representation is still ongoing. \n",
    "\n",
    "### Additional resources\n",
    "* For more details on representing time series data, see our [wiki entry](https://github.com/alan-turing-institute/sktime/wiki/Data-representation-in-sktime), our [paper](https://arxiv.org/pdf/1909.07872.pdf), and this [document](https://github.com/MaxBenChrist/awesome_time_series_in_python/blob/master/standardize_time_series_formats.md) by one of the [tsfresh](https://github.com/blue-yonder/tsfresh) developers\n",
    "* For a list of available alternative data containers we considered, please see our [wiki entry on related software](https://github.com/alan-turing-institute/sktime/wiki/Related-software#time-series-data-containers)\n",
    "* For the ongoing discussion about data representation in sktime, see [issue #15](https://github.com/alan-turing-institute/sktime/issues/15) on GitHub\n",
    "* For more code examples for loading data into the format assumed by sktime, see this [example notebook](https://github.com/alan-turing-institute/sktime/blob/master/examples/loading_data.ipynb)\n",
    "\n",
    "### Example dataset\n",
    "Here we load an example classification dataset from the literature, called GunPoint, and inspect the returned pandas data container. \n",
    "\n",
    "> The GunPoint problem contains univariate tracking data of actor's wrists as they either take a prop gun from a holster, point it, and return it to the holster, or they simply mime the action without the prop. The classification problem is to detect whether a motion trace is a case of _gun_ or _no gun_. The most discriminatory part of the time series shown above offers an interpretable result into how classification decisions can be made; the highlighted red section of the series above is where an actor returns the gun to the holster. As explained in [1], this is discriminatory because if the gun prop is present then the actor's hand stops suddenly, but if the prop is not present, the actor's hand will not stop abruptly and will subtly continue past their waist due to inertia. \n",
    "\n",
    "![shapelet gun point](img/shapelets_gun_point.PNG)"
   ]
  },
  {
   "cell_type": "code",
   "execution_count": 9,
   "metadata": {},
   "outputs": [],
   "source": [
    "from sktime.datasets import load_gunpoint"
   ]
  },
  {
   "cell_type": "code",
   "execution_count": 10,
   "metadata": {},
   "outputs": [],
   "source": [
    "X_train, y_train = load_gunpoint(\"TRAIN\", return_X_y=True)"
   ]
  },
  {
   "cell_type": "code",
   "execution_count": 11,
   "metadata": {},
   "outputs": [
    {
     "data": {
      "text/html": [
       "<div>\n",
       "<style scoped>\n",
       "    .dataframe tbody tr th:only-of-type {\n",
       "        vertical-align: middle;\n",
       "    }\n",
       "\n",
       "    .dataframe tbody tr th {\n",
       "        vertical-align: top;\n",
       "    }\n",
       "\n",
       "    .dataframe thead th {\n",
       "        text-align: right;\n",
       "    }\n",
       "</style>\n",
       "<table border=\"1\" class=\"dataframe\">\n",
       "  <thead>\n",
       "    <tr style=\"text-align: right;\">\n",
       "      <th></th>\n",
       "      <th>dim_0</th>\n",
       "    </tr>\n",
       "  </thead>\n",
       "  <tbody>\n",
       "    <tr>\n",
       "      <td>0</td>\n",
       "      <td>0     -0.64789\n",
       "1     -0.64199\n",
       "2     -0.63819\n",
       "3...</td>\n",
       "    </tr>\n",
       "    <tr>\n",
       "      <td>1</td>\n",
       "      <td>0     -0.64443\n",
       "1     -0.64540\n",
       "2     -0.64706\n",
       "3...</td>\n",
       "    </tr>\n",
       "    <tr>\n",
       "      <td>2</td>\n",
       "      <td>0     -0.77835\n",
       "1     -0.77828\n",
       "2     -0.77715\n",
       "3...</td>\n",
       "    </tr>\n",
       "    <tr>\n",
       "      <td>3</td>\n",
       "      <td>0     -0.75006\n",
       "1     -0.74810\n",
       "2     -0.74616\n",
       "3...</td>\n",
       "    </tr>\n",
       "    <tr>\n",
       "      <td>4</td>\n",
       "      <td>0     -0.59954\n",
       "1     -0.59742\n",
       "2     -0.59927\n",
       "3...</td>\n",
       "    </tr>\n",
       "  </tbody>\n",
       "</table>\n",
       "</div>"
      ],
      "text/plain": [
       "                                               dim_0\n",
       "0  0     -0.64789\n",
       "1     -0.64199\n",
       "2     -0.63819\n",
       "3...\n",
       "1  0     -0.64443\n",
       "1     -0.64540\n",
       "2     -0.64706\n",
       "3...\n",
       "2  0     -0.77835\n",
       "1     -0.77828\n",
       "2     -0.77715\n",
       "3...\n",
       "3  0     -0.75006\n",
       "1     -0.74810\n",
       "2     -0.74616\n",
       "3...\n",
       "4  0     -0.59954\n",
       "1     -0.59742\n",
       "2     -0.59927\n",
       "3..."
      ]
     },
     "execution_count": 11,
     "metadata": {},
     "output_type": "execute_result"
    }
   ],
   "source": [
    "# nested pandas dataframe, with entire series in cells \n",
    "X_train.head()"
   ]
  },
  {
   "cell_type": "code",
   "execution_count": 12,
   "metadata": {},
   "outputs": [
    {
     "data": {
      "text/plain": [
       "(50, 1)"
      ]
     },
     "execution_count": 12,
     "metadata": {},
     "output_type": "execute_result"
    }
   ],
   "source": [
    "X_train.shape"
   ]
  },
  {
   "cell_type": "code",
   "execution_count": 13,
   "metadata": {},
   "outputs": [
    {
     "data": {
      "text/plain": [
       "0   -0.64789\n",
       "1   -0.64199\n",
       "2   -0.63819\n",
       "3   -0.63826\n",
       "4   -0.63835\n",
       "dtype: float64"
      ]
     },
     "execution_count": 13,
     "metadata": {},
     "output_type": "execute_result"
    }
   ],
   "source": [
    "# in each cell, there is an entire series\n",
    "X_train.iloc[0, 0].head()"
   ]
  },
  {
   "cell_type": "code",
   "execution_count": 14,
   "metadata": {},
   "outputs": [
    {
     "data": {
      "text/plain": [
       "(150,)"
      ]
     },
     "execution_count": 14,
     "metadata": {},
     "output_type": "execute_result"
    }
   ],
   "source": [
    "X_train.iloc[0, 0].shape"
   ]
  },
  {
   "cell_type": "markdown",
   "metadata": {},
   "source": [
    "### Exercise: Accessing and plotting time series in data container\n",
    "Play around with the data container. For example, how would you plot the time series in the first row?"
   ]
  },
  {
   "cell_type": "code",
   "execution_count": null,
   "metadata": {},
   "outputs": [],
   "source": []
  },
  {
   "cell_type": "markdown",
   "metadata": {},
   "source": [
    "### Feedback\n",
    "* Is the documentation clear on how we represent time series data in sktime? What could we improve?\n",
    "* How we could improve the design of data container? "
   ]
  },
  {
   "cell_type": "markdown",
   "metadata": {},
   "source": [
    "## 2. Time series classification\n",
    "\n",
    "Now we try to train a classifier on the training data and then evaluate it on the held out test data."
   ]
  },
  {
   "cell_type": "code",
   "execution_count": 15,
   "metadata": {},
   "outputs": [],
   "source": [
    "# load training and test set\n",
    "X_train, y_train = load_gunpoint(\"TRAIN\", return_X_y=True)\n",
    "X_test, y_test = load_gunpoint(\"TEST\", return_X_y=True)"
   ]
  },
  {
   "cell_type": "code",
   "execution_count": 16,
   "metadata": {},
   "outputs": [
    {
     "data": {
      "text/plain": [
       "(array(['1', '2'], dtype='<U1'), array([24, 26]))"
      ]
     },
     "execution_count": 16,
     "metadata": {},
     "output_type": "execute_result"
    }
   ],
   "source": [
    "# binary target variable, almost balanced\n",
    "np.unique(y_train, return_counts=True)"
   ]
  },
  {
   "cell_type": "markdown",
   "metadata": {},
   "source": [
    "### K-nearest-neighbours classifier for time series\n",
    "One of the most popular time series classifiers is the k-nearest-neighbours algorithm based on a [dynamic time warping](https://en.wikipedia.org/wiki/Dynamic_time_warping) (or short: dtw) distance measure. "
   ]
  },
  {
   "cell_type": "code",
   "execution_count": 34,
   "metadata": {},
   "outputs": [],
   "source": [
    "from sktime.classifiers.distance_based import KNeighborsTimeSeriesClassifier\n",
    "knn = KNeighborsTimeSeriesClassifier(metric=\"dtw\")\n",
    "knn.fit(X_train, y_train) # ignore the FutureWarning from sklearn\n",
    "y_pred = knn.predict(X_test)"
   ]
  },
  {
   "cell_type": "code",
   "execution_count": 35,
   "metadata": {},
   "outputs": [
    {
     "data": {
      "text/plain": [
       "0.9066666666666666"
      ]
     },
     "execution_count": 35,
     "metadata": {},
     "output_type": "execute_result"
    }
   ],
   "source": [
    "from sklearn.metrics import accuracy_score\n",
    "accuracy_score(y_test, y_pred)"
   ]
  },
  {
   "cell_type": "markdown",
   "metadata": {},
   "source": [
    "### Time series forest classifier\n",
    "Another popular classifier is time series forest, a variation of a random forest adapted to the time series setting, based on randomised time series segmentation and feature extraction. "
   ]
  },
  {
   "cell_type": "code",
   "execution_count": 37,
   "metadata": {},
   "outputs": [],
   "source": [
    "from sktime.classifiers.compose import TimeSeriesForestClassifier"
   ]
  },
  {
   "cell_type": "code",
   "execution_count": 36,
   "metadata": {},
   "outputs": [
    {
     "data": {
      "text/plain": [
       "0.9666666666666667"
      ]
     },
     "execution_count": 36,
     "metadata": {},
     "output_type": "execute_result"
    }
   ],
   "source": [
    "tsf = TimeSeriesForestClassifier()\n",
    "tsf.fit(X_train, y_train)\n",
    "tsf.score(X_test, y_test)"
   ]
  },
  {
   "cell_type": "markdown",
   "metadata": {},
   "source": [
    "We can also plot the feature importance of the three extracted features over time: "
   ]
  },
  {
   "cell_type": "code",
   "execution_count": 38,
   "metadata": {},
   "outputs": [
    {
     "data": {
      "image/png": "[encoded data removed]",
      "text/plain": [
       "<Figure size 432x288 with 1 Axes>"
      ]
     },
     "metadata": {
      "needs_background": "light"
     },
     "output_type": "display_data"
    }
   ],
   "source": [
    "from sktime.contrib.interval_based.tsf_feature_importance_graph import feature_importances\n",
    "\n",
    "# compute feature importance graph \n",
    "fi = feature_importances(tsf)  # experimental function, assumes specific structure of passed time series forest classifier\n",
    "ax = fi.plot()\n",
    "ax.set(xlabel=\"time\", ylabel=\"feature importance score\");"
   ]
  },
  {
   "cell_type": "markdown",
   "metadata": {},
   "source": [
    "Implementing the feature importance functionality as a method of the time series forest classifier itself, is an open issues and a good first issue if you're interested in contributing to sktime. Check out the [good first issues on GitHub](https://github.com/alan-turing-institute/sktime/issues?q=is%3Aopen+is%3Aissue+label%3A%22good+first+issue%22).    "
   ]
  },
  {
   "cell_type": "markdown",
   "metadata": {},
   "source": [
    "### Exercise: More classifiers\n",
    "Try out some other classifers! For example:"
   ]
  },
  {
   "cell_type": "code",
   "execution_count": 16,
   "metadata": {},
   "outputs": [],
   "source": [
    "from sktime.classifiers.shapelet_based import ShapeletTransformClassifier"
   ]
  },
  {
   "cell_type": "code",
   "execution_count": null,
   "metadata": {},
   "outputs": [],
   "source": []
  },
  {
   "cell_type": "markdown",
   "metadata": {},
   "source": [
    "### Exercise: Tuning\n",
    "Try out grid-search cross-validation to tune some of the hyper-parameters of the classifiers. "
   ]
  },
  {
   "cell_type": "code",
   "execution_count": 1,
   "metadata": {},
   "outputs": [],
   "source": [
    "from sktime.model_selection import GridSearchCV"
   ]
  },
  {
   "cell_type": "code",
   "execution_count": null,
   "metadata": {},
   "outputs": [],
   "source": []
  },
  {
   "cell_type": "markdown",
   "metadata": {},
   "source": [
    "### Exercise: Reduction \n",
    "Use the `Tabulariser` transformer in a pipeline to reduce the time series classification task to the tabular classification tasks and solve it with any classifier from scikit-learn. "
   ]
  },
  {
   "cell_type": "code",
   "execution_count": 39,
   "metadata": {},
   "outputs": [],
   "source": [
    "from sktime.transformers.compose import Tabulariser\n",
    "from sktime.pipeline import Pipeline\n",
    "from sklearn.linear_model import LogisticRegression  # any other classifier should work too"
   ]
  },
  {
   "cell_type": "code",
   "execution_count": null,
   "metadata": {},
   "outputs": [],
   "source": []
  },
  {
   "cell_type": "markdown",
   "metadata": {},
   "source": [
    "### More resources\n",
    "* For shapelet based classification, see this [notebook](https://github.com/alan-turing-institute/sktime/blob/master/examples/shapelet_transform.ipynb)\n",
    "* For more code examples of univariate time series classification, see this [notebook]()\n",
    "* In this tutorial, we focus on univariate time series classification. For multivariate time series classification, check out this [notebook]((https://github.com/alan-turing-institute/sktime/blob/master/examples/multivariate_time_series_classification.ipynb))"
   ]
  },
  {
   "cell_type": "markdown",
   "metadata": {},
   "source": [
    "### Feedback:\n",
    "* What was the most difficult part to understand about the time series classification API? \n",
    "* How can we improve the documentation? \n",
    "* What additional features would you like to see?"
   ]
  },
  {
   "cell_type": "markdown",
   "metadata": {},
   "source": [
    "## References\n",
    "[1] Ye, Lexiang, and Eamonn Keogh. \"Time series shapelets: a novel technique that allows accurate, interpretable and fast classification.\" Data mining and knowledge discovery 22, no. 1-2 (2011): 149-182."
   ]
  }
 ],
 "metadata": {
  "kernelspec": {
   "display_name": "Python 3",
   "language": "python",
   "name": "python3"
  },
  "language_info": {
   "codemirror_mode": {
    "name": "ipython",
    "version": 3
   },
   "file_extension": ".py",
   "mimetype": "text/x-python",
   "name": "python",
   "nbconvert_exporter": "python",
   "pygments_lexer": "ipython3",
   "version": "3.7.3"
  }
 },
 "nbformat": 4,
 "nbformat_minor": 2
}
