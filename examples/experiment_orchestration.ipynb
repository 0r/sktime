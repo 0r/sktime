{
 "cells": [
  {
   "cell_type": "markdown",
   "metadata": {},
   "source": [
    "# Orchestration of prediction experiments with sktime\n",
    "\n",
    "* Evaluate the predictive performance one or more strategies on one or more datasets\n",
    "\n",
    "[Github weblink](https://github.com/alan-turing-institute/sktime/blob/master/examples/experiment_orchestration.ipynb)"
   ]
  },
  {
   "cell_type": "code",
   "execution_count": 1,
   "metadata": {},
   "outputs": [],
   "source": [
    "from sktime.experiments.orchestrator import Orchestrator\n",
    "from sktime.experiments.data import DatasetHDD\n",
    "from sktime.experiments.data import ResultHDD\n",
    "from sktime.experiments.data import DatasetLoadFromDir\n",
    "from sktime.experiments.analysis import AnalyseResults\n",
    "from sktime.experiments.scores import ScoreAccuracy\n",
    "\n",
    "from sktime.model_selection import PresplitFilesCV\n",
    "from sktime.highlevel.strategies import TSCStrategy\n",
    "from sktime.highlevel.tasks import TSCTask\n",
    "from sktime.classifiers.compose.ensemble import TimeSeriesForestClassifier\n",
    "\n",
    "from sklearn.model_selection import KFold\n",
    "import pandas as pd\n",
    "import os"
   ]
  },
  {
   "cell_type": "code",
   "execution_count": 2,
   "metadata": {},
   "outputs": [],
   "source": [
    "# get path to the sktime datasets \n",
    "import sktime\n",
    "repodir = os.path.dirname(sktime.__file__)\n",
    "datadir = os.path.join(repodir, \"datasets/data/\")\n",
    "resultsdir = 'results'\n",
    "\n"
   ]
  },
  {
   "cell_type": "code",
   "execution_count": 3,
   "metadata": {},
   "outputs": [],
   "source": [
    "# create the task and dataset objects manually for each dataset\n",
    "dts_Italy = DatasetHDD(dataset_loc=os.path.join(datadir, 'ItalyPowerDemand'), dataset_name='ItalyPowerDemand')\n",
    "task_Italy = TSCTask(target='target')\n",
    "\n",
    "dts_ArrowHead = DatasetHDD(dataset_loc=os.path.join(datadir, 'ArrowHead'), dataset_name='ArrowHead')\n",
    "task_ArrowHead = TSCTask(target='target')\n",
    "\n",
    "dts_GunPoint = DatasetHDD(dataset_loc=os.path.join(datadir, 'GunPoint'), dataset_name='GunPoint')\n",
    "task_GunPoint = TSCTask(target='target')\n",
    "\n",
    "datasets=[dts_ArrowHead, dts_Italy, dts_GunPoint]\n",
    "tasks=[task_ArrowHead, task_Italy, task_GunPoint]"
   ]
  },
  {
   "cell_type": "code",
   "execution_count": 4,
   "metadata": {},
   "outputs": [],
   "source": [
    "\n",
    "# or create them automatically\n",
    "dts_loader = DatasetLoadFromDir(root_dir=datadir)\n",
    "datasets = dts_loader.load_datasets()\n",
    "\n",
    "selected_datasets = ['ItalyPowerDemand', 'ArrowHead', 'GunPoint']\n",
    "datasets = [dataset for dataset in datasets if dataset.dataset_name in selected_datasets]\n",
    "\n",
    "tasks = [TSCTask(target='target') for _ in range(len(datasets))]\n",
    "\n",
    "clf = TimeSeriesForestClassifier(n_estimators=10, random_state=1)\n",
    "strategy = TSCStrategy(clf)\n",
    "\n",
    "resultHDD = ResultHDD(results_save_dir=os.path.join(datadir, 'results'),\n",
    "                      strategies_save_dir=os.path.join(datadir, 'trained_strategies'))"
   ]
  },
  {
   "cell_type": "code",
   "execution_count": 5,
   "metadata": {},
   "outputs": [],
   "source": [
    "# run orchestrator\n",
    "orchestrator = Orchestrator(datasets=datasets,\n",
    "                            tasks=tasks,  \n",
    "                            strategies=[strategy], \n",
    "                            cv=PresplitFilesCV(), \n",
    "                            result=resultHDD)\n",
    " \n",
    "orchestrator.run()\n"
   ]
  },
  {
   "cell_type": "code",
   "execution_count": 6,
   "metadata": {},
   "outputs": [
    {
     "data": {
      "text/html": [
       "<div>\n",
       "<style scoped>\n",
       "    .dataframe tbody tr th:only-of-type {\n",
       "        vertical-align: middle;\n",
       "    }\n",
       "\n",
       "    .dataframe tbody tr th {\n",
       "        vertical-align: top;\n",
       "    }\n",
       "\n",
       "    .dataframe thead th {\n",
       "        text-align: right;\n",
       "    }\n",
       "</style>\n",
       "<table border=\"1\" class=\"dataframe\">\n",
       "  <thead>\n",
       "    <tr style=\"text-align: right;\">\n",
       "      <th></th>\n",
       "      <th></th>\n",
       "      <th>loss</th>\n",
       "      <th>std_error</th>\n",
       "      <th>Accuacy</th>\n",
       "    </tr>\n",
       "  </thead>\n",
       "  <tbody>\n",
       "    <tr>\n",
       "      <th>GunPoint</th>\n",
       "      <th>TimeSeriesForestClassifier</th>\n",
       "      <td>0.053691</td>\n",
       "      <td>0.018466</td>\n",
       "      <td>0.946309</td>\n",
       "    </tr>\n",
       "    <tr>\n",
       "      <th>ItalyPowerDemand</th>\n",
       "      <th>TimeSeriesForestClassifier</th>\n",
       "      <td>0.044747</td>\n",
       "      <td>0.006448</td>\n",
       "      <td>0.955253</td>\n",
       "    </tr>\n",
       "    <tr>\n",
       "      <th>ArrowHead</th>\n",
       "      <th>TimeSeriesForestClassifier</th>\n",
       "      <td>0.275862</td>\n",
       "      <td>0.033883</td>\n",
       "      <td>0.724138</td>\n",
       "    </tr>\n",
       "  </tbody>\n",
       "</table>\n",
       "</div>"
      ],
      "text/plain": [
       "                                                 loss  std_error   Accuacy\n",
       "GunPoint         TimeSeriesForestClassifier  0.053691   0.018466  0.946309\n",
       "ItalyPowerDemand TimeSeriesForestClassifier  0.044747   0.006448  0.955253\n",
       "ArrowHead        TimeSeriesForestClassifier  0.275862   0.033883  0.724138"
      ]
     },
     "execution_count": 6,
     "metadata": {},
     "output_type": "execute_result"
    }
   ],
   "source": [
    "# The results list can be obtained from loading the saved csv files by:\n",
    "results = resultHDD.load()\n",
    "\n",
    "analyse = AnalyseResults(resultHDD)\n",
    "\n",
    "strategy_dict, losses_df = analyse.prediction_errors(metric=ScoreAccuracy())\n",
    "\n",
    "losses_df['Accuacy'] = 1- losses_df['loss']\n",
    "losses_df"
   ]
  },
  {
   "cell_type": "markdown",
   "metadata": {},
   "source": [
    "Having obtained the list of results objects we can compute the score and run some statistical tests"
   ]
  },
  {
   "cell_type": "markdown",
   "metadata": {},
   "source": [
    "The strategy_dict is used as an argument to the function performing the statistical tests and visualizations. Currently, the following functions are implemented:"
   ]
  },
  {
   "cell_type": "markdown",
   "metadata": {
    "scrolled": false
   },
   "source": [
    "* `analyse.average_and_std_error(strategy_dict)`\n",
    "* `analyse.plot_boxcharts(strategy_dict)`\n",
    "* `analyse.ranks(strategy_dict)`\n",
    "* `analyse.t_test(strategy_dict)`\n",
    "* `analyse.sign_test(strategy_dict)`\n",
    "* `analyse.ranksum_test(strategy_dict)`\n",
    "* `analyse.t_test_with_bonferroni_correction(strategy_dict)`\n",
    "* `analyse.wilcoxon_test(strategy_dict)`\n",
    "* `analyse.friedman_test(strategy_dict)`\n",
    "* `analyse.nemenyi(strategy_dict)`"
   ]
  }
 ],
 "metadata": {
  "kernelspec": {
   "display_name": "Python 3",
   "language": "python",
   "name": "python3"
  },
  "language_info": {
   "codemirror_mode": {
    "name": "ipython",
    "version": 3
   },
   "file_extension": ".py",
   "mimetype": "text/x-python",
   "name": "python",
   "nbconvert_exporter": "python",
   "pygments_lexer": "ipython3",
   "version": "3.7.1"
  }
 },
 "nbformat": 4,
 "nbformat_minor": 2
}
