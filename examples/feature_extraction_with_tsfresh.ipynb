{
 "cells": [
  {
   "cell_type": "markdown",
   "metadata": {},
   "source": [
    "# Feature extraction with tsfresh transformer\n",
    "\n",
    "In this tutorial, we show how you can use sktime with [tsfresh](https://tsfresh.readthedocs.io) to first extract features from time series, so that we can then use any scikit-learn estimator.\n",
    "\n",
    "## Preliminaries\n",
    "You have to install tsfresh if you haven't already. To install it, uncomment the cell below:"
   ]
  },
  {
   "cell_type": "code",
   "execution_count": 1,
   "metadata": {},
   "outputs": [],
   "source": [
    "# !pip install --upgrade tsfresh"
   ]
  },
  {
   "cell_type": "code",
   "execution_count": 2,
   "metadata": {},
   "outputs": [],
   "source": [
    "import numpy as np\n",
    "from sklearn.model_selection import train_test_split\n",
    "from sklearn.ensemble import RandomForestClassifier\n",
    "from sklearn.pipeline import make_pipeline\n",
    "from sktime.datasets import load_basic_motions\n",
    "from sktime.datasets import load_arrow_head\n",
    "from sktime.transformers.series_as_features.summarize import \\\n",
    "    TSFreshFeatureExtractor"
   ]
  },
  {
   "cell_type": "markdown",
   "metadata": {},
   "source": [
    "## Univariate time series classification data\n",
    "\n",
    "For more details on the data set, see the [univariate time series classification notebook](https://github.com/alan-turing-institute/sktime/blob/master/examples/02_classification_univariate.ipynb)."
   ]
  },
  {
   "cell_type": "code",
   "execution_count": 3,
   "metadata": {},
   "outputs": [
    {
     "name": "stdout",
     "output_type": "stream",
     "text": [
      "(158, 1) (158,) (53, 1) (53,)\n"
     ]
    }
   ],
   "source": [
    "X, y = load_arrow_head(return_X_y=True)\n",
    "X_train, X_test, y_train, y_test = train_test_split(X, y)\n",
    "print(X_train.shape, y_train.shape, X_test.shape, y_test.shape)"
   ]
  },
  {
   "cell_type": "code",
   "execution_count": 4,
   "metadata": {
    "jupyter": {
     "outputs_hidden": false
    },
    "pycharm": {
     "name": "#%%\n"
    }
   },
   "outputs": [
    {
     "data": {
      "text/html": [
       "<div>\n",
       "<style scoped>\n",
       "    .dataframe tbody tr th:only-of-type {\n",
       "        vertical-align: middle;\n",
       "    }\n",
       "\n",
       "    .dataframe tbody tr th {\n",
       "        vertical-align: top;\n",
       "    }\n",
       "\n",
       "    .dataframe thead th {\n",
       "        text-align: right;\n",
       "    }\n",
       "</style>\n",
       "<table border=\"1\" class=\"dataframe\">\n",
       "  <thead>\n",
       "    <tr style=\"text-align: right;\">\n",
       "      <th></th>\n",
       "      <th>dim_0</th>\n",
       "    </tr>\n",
       "  </thead>\n",
       "  <tbody>\n",
       "    <tr>\n",
       "      <th>154</th>\n",
       "      <td>0     -1.6106\n",
       "1     -1.6097\n",
       "2     -1.5854\n",
       "3   ...</td>\n",
       "    </tr>\n",
       "    <tr>\n",
       "      <th>136</th>\n",
       "      <td>0     -1.6425\n",
       "1     -1.6378\n",
       "2     -1.6359\n",
       "3   ...</td>\n",
       "    </tr>\n",
       "    <tr>\n",
       "      <th>16</th>\n",
       "      <td>0     -2.0537\n",
       "1     -2.0369\n",
       "2     -2.0330\n",
       "3   ...</td>\n",
       "    </tr>\n",
       "    <tr>\n",
       "      <th>80</th>\n",
       "      <td>0     -1.9186\n",
       "1     -1.9088\n",
       "2     -1.8903\n",
       "3   ...</td>\n",
       "    </tr>\n",
       "    <tr>\n",
       "      <th>69</th>\n",
       "      <td>0     -1.7998\n",
       "1     -1.7987\n",
       "2     -1.7942\n",
       "3   ...</td>\n",
       "    </tr>\n",
       "  </tbody>\n",
       "</table>\n",
       "</div>"
      ],
      "text/plain": [
       "                                                 dim_0\n",
       "154  0     -1.6106\n",
       "1     -1.6097\n",
       "2     -1.5854\n",
       "3   ...\n",
       "136  0     -1.6425\n",
       "1     -1.6378\n",
       "2     -1.6359\n",
       "3   ...\n",
       "16   0     -2.0537\n",
       "1     -2.0369\n",
       "2     -2.0330\n",
       "3   ...\n",
       "80   0     -1.9186\n",
       "1     -1.9088\n",
       "2     -1.8903\n",
       "3   ...\n",
       "69   0     -1.7998\n",
       "1     -1.7987\n",
       "2     -1.7942\n",
       "3   ..."
      ]
     },
     "execution_count": 4,
     "metadata": {},
     "output_type": "execute_result"
    }
   ],
   "source": [
    "X_train.head()"
   ]
  },
  {
   "cell_type": "code",
   "execution_count": 5,
   "metadata": {},
   "outputs": [
    {
     "data": {
      "text/plain": [
       "array(['0', '1', '2'], dtype=object)"
      ]
     },
     "execution_count": 5,
     "metadata": {},
     "output_type": "execute_result"
    }
   ],
   "source": [
    "# binary classification task\n",
    "np.unique(y_train)"
   ]
  },
  {
   "cell_type": "markdown",
   "metadata": {},
   "source": [
    "## Using tsfresh to extract features"
   ]
  },
  {
   "cell_type": "code",
   "execution_count": 6,
   "metadata": {},
   "outputs": [
    {
     "name": "stderr",
     "output_type": "stream",
     "text": [
      "/Users/travis/build/alan-turing-institute/sktime/sktime/transformers/series_as_features/summarize/_tsfresh.py:150: UserWarning: Found non-unique index, replaced with unique index.\n",
      "  warn(\"Found non-unique index, replaced with unique index.\")\n"
     ]
    },
    {
     "name": "stderr",
     "output_type": "stream",
     "text": [
      "\r",
      "Feature Extraction:   0%|          | 0/5 [00:00<?, ?it/s]"
     ]
    },
    {
     "name": "stderr",
     "output_type": "stream",
     "text": [
      "\r",
      "Feature Extraction:  20%|██        | 1/5 [00:04<00:18,  4.52s/it]"
     ]
    },
    {
     "name": "stderr",
     "output_type": "stream",
     "text": [
      "\r",
      "Feature Extraction:  40%|████      | 2/5 [00:08<00:13,  4.49s/it]"
     ]
    },
    {
     "name": "stderr",
     "output_type": "stream",
     "text": [
      "\r",
      "Feature Extraction:  60%|██████    | 3/5 [00:13<00:08,  4.49s/it]"
     ]
    },
    {
     "name": "stderr",
     "output_type": "stream",
     "text": [
      "\r",
      "Feature Extraction:  80%|████████  | 4/5 [00:17<00:04,  4.47s/it]"
     ]
    },
    {
     "name": "stderr",
     "output_type": "stream",
     "text": [
      "\r",
      "Feature Extraction: 100%|██████████| 5/5 [00:22<00:00,  4.40s/it]"
     ]
    },
    {
     "name": "stderr",
     "output_type": "stream",
     "text": [
      "\r",
      "Feature Extraction: 100%|██████████| 5/5 [00:22<00:00,  4.42s/it]"
     ]
    },
    {
     "name": "stderr",
     "output_type": "stream",
     "text": [
      "\n"
     ]
    },
    {
     "data": {
      "text/html": [
       "<div>\n",
       "<style scoped>\n",
       "    .dataframe tbody tr th:only-of-type {\n",
       "        vertical-align: middle;\n",
       "    }\n",
       "\n",
       "    .dataframe tbody tr th {\n",
       "        vertical-align: top;\n",
       "    }\n",
       "\n",
       "    .dataframe thead th {\n",
       "        text-align: right;\n",
       "    }\n",
       "</style>\n",
       "<table border=\"1\" class=\"dataframe\">\n",
       "  <thead>\n",
       "    <tr style=\"text-align: right;\">\n",
       "      <th>variable</th>\n",
       "      <th>dim_0__abs_energy</th>\n",
       "      <th>dim_0__absolute_sum_of_changes</th>\n",
       "      <th>dim_0__agg_autocorrelation__f_agg_\"mean\"__maxlag_40</th>\n",
       "      <th>dim_0__agg_autocorrelation__f_agg_\"median\"__maxlag_40</th>\n",
       "      <th>dim_0__agg_autocorrelation__f_agg_\"var\"__maxlag_40</th>\n",
       "      <th>dim_0__agg_linear_trend__attr_\"intercept\"__chunk_len_10__f_agg_\"max\"</th>\n",
       "      <th>dim_0__agg_linear_trend__attr_\"intercept\"__chunk_len_10__f_agg_\"mean\"</th>\n",
       "      <th>dim_0__agg_linear_trend__attr_\"intercept\"__chunk_len_10__f_agg_\"min\"</th>\n",
       "      <th>dim_0__agg_linear_trend__attr_\"intercept\"__chunk_len_10__f_agg_\"var\"</th>\n",
       "      <th>dim_0__agg_linear_trend__attr_\"intercept\"__chunk_len_50__f_agg_\"max\"</th>\n",
       "      <th>...</th>\n",
       "      <th>dim_0__symmetry_looking__r_0.9500000000000001</th>\n",
       "      <th>dim_0__time_reversal_asymmetry_statistic__lag_1</th>\n",
       "      <th>dim_0__time_reversal_asymmetry_statistic__lag_2</th>\n",
       "      <th>dim_0__time_reversal_asymmetry_statistic__lag_3</th>\n",
       "      <th>dim_0__value_count__value_-1</th>\n",
       "      <th>dim_0__value_count__value_0</th>\n",
       "      <th>dim_0__value_count__value_1</th>\n",
       "      <th>dim_0__variance</th>\n",
       "      <th>dim_0__variance_larger_than_standard_deviation</th>\n",
       "      <th>dim_0__variation_coefficient</th>\n",
       "    </tr>\n",
       "  </thead>\n",
       "  <tbody>\n",
       "    <tr>\n",
       "      <th>0</th>\n",
       "      <td>250.000382</td>\n",
       "      <td>76.650710</td>\n",
       "      <td>0.366140</td>\n",
       "      <td>0.416980</td>\n",
       "      <td>0.080675</td>\n",
       "      <td>-0.382364</td>\n",
       "      <td>-0.701712</td>\n",
       "      <td>-1.235681</td>\n",
       "      <td>0.099315</td>\n",
       "      <td>0.621025</td>\n",
       "      <td>...</td>\n",
       "      <td>1.0</td>\n",
       "      <td>0.032009</td>\n",
       "      <td>0.010176</td>\n",
       "      <td>-0.005448</td>\n",
       "      <td>0.0</td>\n",
       "      <td>0.0</td>\n",
       "      <td>0.0</td>\n",
       "      <td>0.996017</td>\n",
       "      <td>0.0</td>\n",
       "      <td>-6.406642e+05</td>\n",
       "    </tr>\n",
       "    <tr>\n",
       "      <th>1</th>\n",
       "      <td>250.000498</td>\n",
       "      <td>77.475422</td>\n",
       "      <td>0.350508</td>\n",
       "      <td>0.398169</td>\n",
       "      <td>0.082753</td>\n",
       "      <td>-0.310222</td>\n",
       "      <td>-0.681474</td>\n",
       "      <td>-1.174927</td>\n",
       "      <td>0.086283</td>\n",
       "      <td>0.616033</td>\n",
       "      <td>...</td>\n",
       "      <td>1.0</td>\n",
       "      <td>0.032245</td>\n",
       "      <td>0.004800</td>\n",
       "      <td>-0.013597</td>\n",
       "      <td>0.0</td>\n",
       "      <td>0.0</td>\n",
       "      <td>0.0</td>\n",
       "      <td>0.996018</td>\n",
       "      <td>0.0</td>\n",
       "      <td>1.456394e+06</td>\n",
       "    </tr>\n",
       "    <tr>\n",
       "      <th>2</th>\n",
       "      <td>250.000758</td>\n",
       "      <td>81.133902</td>\n",
       "      <td>0.311659</td>\n",
       "      <td>0.325673</td>\n",
       "      <td>0.063002</td>\n",
       "      <td>-0.326345</td>\n",
       "      <td>-0.655443</td>\n",
       "      <td>-1.096561</td>\n",
       "      <td>0.084894</td>\n",
       "      <td>0.591660</td>\n",
       "      <td>...</td>\n",
       "      <td>1.0</td>\n",
       "      <td>0.051569</td>\n",
       "      <td>-0.003595</td>\n",
       "      <td>-0.041251</td>\n",
       "      <td>0.0</td>\n",
       "      <td>0.0</td>\n",
       "      <td>0.0</td>\n",
       "      <td>0.996019</td>\n",
       "      <td>0.0</td>\n",
       "      <td>-1.368852e+06</td>\n",
       "    </tr>\n",
       "    <tr>\n",
       "      <th>3</th>\n",
       "      <td>249.998779</td>\n",
       "      <td>82.283528</td>\n",
       "      <td>0.271333</td>\n",
       "      <td>0.303863</td>\n",
       "      <td>0.096954</td>\n",
       "      <td>-0.092147</td>\n",
       "      <td>-0.457649</td>\n",
       "      <td>-1.064945</td>\n",
       "      <td>0.098616</td>\n",
       "      <td>0.791964</td>\n",
       "      <td>...</td>\n",
       "      <td>1.0</td>\n",
       "      <td>0.055075</td>\n",
       "      <td>-0.000432</td>\n",
       "      <td>-0.011301</td>\n",
       "      <td>0.0</td>\n",
       "      <td>0.0</td>\n",
       "      <td>0.0</td>\n",
       "      <td>0.996011</td>\n",
       "      <td>0.0</td>\n",
       "      <td>5.009978e+07</td>\n",
       "    </tr>\n",
       "    <tr>\n",
       "      <th>4</th>\n",
       "      <td>249.998516</td>\n",
       "      <td>83.557328</td>\n",
       "      <td>0.234075</td>\n",
       "      <td>0.274195</td>\n",
       "      <td>0.106038</td>\n",
       "      <td>-0.229716</td>\n",
       "      <td>-0.491494</td>\n",
       "      <td>-1.176600</td>\n",
       "      <td>0.101083</td>\n",
       "      <td>0.736171</td>\n",
       "      <td>...</td>\n",
       "      <td>1.0</td>\n",
       "      <td>0.051651</td>\n",
       "      <td>0.015625</td>\n",
       "      <td>0.013673</td>\n",
       "      <td>0.0</td>\n",
       "      <td>0.0</td>\n",
       "      <td>0.0</td>\n",
       "      <td>0.996010</td>\n",
       "      <td>0.0</td>\n",
       "      <td>-3.131234e+06</td>\n",
       "    </tr>\n",
       "  </tbody>\n",
       "</table>\n",
       "<p>5 rows × 757 columns</p>\n",
       "</div>"
      ],
      "text/plain": [
       "variable  dim_0__abs_energy  dim_0__absolute_sum_of_changes  \\\n",
       "0                250.000382                       76.650710   \n",
       "1                250.000498                       77.475422   \n",
       "2                250.000758                       81.133902   \n",
       "3                249.998779                       82.283528   \n",
       "4                249.998516                       83.557328   \n",
       "\n",
       "variable  dim_0__agg_autocorrelation__f_agg_\"mean\"__maxlag_40  \\\n",
       "0                                                  0.366140     \n",
       "1                                                  0.350508     \n",
       "2                                                  0.311659     \n",
       "3                                                  0.271333     \n",
       "4                                                  0.234075     \n",
       "\n",
       "variable  dim_0__agg_autocorrelation__f_agg_\"median\"__maxlag_40  \\\n",
       "0                                                  0.416980       \n",
       "1                                                  0.398169       \n",
       "2                                                  0.325673       \n",
       "3                                                  0.303863       \n",
       "4                                                  0.274195       \n",
       "\n",
       "variable  dim_0__agg_autocorrelation__f_agg_\"var\"__maxlag_40  \\\n",
       "0                                                  0.080675    \n",
       "1                                                  0.082753    \n",
       "2                                                  0.063002    \n",
       "3                                                  0.096954    \n",
       "4                                                  0.106038    \n",
       "\n",
       "variable  dim_0__agg_linear_trend__attr_\"intercept\"__chunk_len_10__f_agg_\"max\"  \\\n",
       "0                                                 -0.382364                      \n",
       "1                                                 -0.310222                      \n",
       "2                                                 -0.326345                      \n",
       "3                                                 -0.092147                      \n",
       "4                                                 -0.229716                      \n",
       "\n",
       "variable  dim_0__agg_linear_trend__attr_\"intercept\"__chunk_len_10__f_agg_\"mean\"  \\\n",
       "0                                                 -0.701712                       \n",
       "1                                                 -0.681474                       \n",
       "2                                                 -0.655443                       \n",
       "3                                                 -0.457649                       \n",
       "4                                                 -0.491494                       \n",
       "\n",
       "variable  dim_0__agg_linear_trend__attr_\"intercept\"__chunk_len_10__f_agg_\"min\"  \\\n",
       "0                                                 -1.235681                      \n",
       "1                                                 -1.174927                      \n",
       "2                                                 -1.096561                      \n",
       "3                                                 -1.064945                      \n",
       "4                                                 -1.176600                      \n",
       "\n",
       "variable  dim_0__agg_linear_trend__attr_\"intercept\"__chunk_len_10__f_agg_\"var\"  \\\n",
       "0                                                  0.099315                      \n",
       "1                                                  0.086283                      \n",
       "2                                                  0.084894                      \n",
       "3                                                  0.098616                      \n",
       "4                                                  0.101083                      \n",
       "\n",
       "variable  dim_0__agg_linear_trend__attr_\"intercept\"__chunk_len_50__f_agg_\"max\"  \\\n",
       "0                                                  0.621025                      \n",
       "1                                                  0.616033                      \n",
       "2                                                  0.591660                      \n",
       "3                                                  0.791964                      \n",
       "4                                                  0.736171                      \n",
       "\n",
       "variable  ...  dim_0__symmetry_looking__r_0.9500000000000001  \\\n",
       "0         ...                                            1.0   \n",
       "1         ...                                            1.0   \n",
       "2         ...                                            1.0   \n",
       "3         ...                                            1.0   \n",
       "4         ...                                            1.0   \n",
       "\n",
       "variable  dim_0__time_reversal_asymmetry_statistic__lag_1  \\\n",
       "0                                                0.032009   \n",
       "1                                                0.032245   \n",
       "2                                                0.051569   \n",
       "3                                                0.055075   \n",
       "4                                                0.051651   \n",
       "\n",
       "variable  dim_0__time_reversal_asymmetry_statistic__lag_2  \\\n",
       "0                                                0.010176   \n",
       "1                                                0.004800   \n",
       "2                                               -0.003595   \n",
       "3                                               -0.000432   \n",
       "4                                                0.015625   \n",
       "\n",
       "variable  dim_0__time_reversal_asymmetry_statistic__lag_3  \\\n",
       "0                                               -0.005448   \n",
       "1                                               -0.013597   \n",
       "2                                               -0.041251   \n",
       "3                                               -0.011301   \n",
       "4                                                0.013673   \n",
       "\n",
       "variable  dim_0__value_count__value_-1  dim_0__value_count__value_0  \\\n",
       "0                                  0.0                          0.0   \n",
       "1                                  0.0                          0.0   \n",
       "2                                  0.0                          0.0   \n",
       "3                                  0.0                          0.0   \n",
       "4                                  0.0                          0.0   \n",
       "\n",
       "variable  dim_0__value_count__value_1  dim_0__variance  \\\n",
       "0                                 0.0         0.996017   \n",
       "1                                 0.0         0.996018   \n",
       "2                                 0.0         0.996019   \n",
       "3                                 0.0         0.996011   \n",
       "4                                 0.0         0.996010   \n",
       "\n",
       "variable  dim_0__variance_larger_than_standard_deviation  \\\n",
       "0                                                    0.0   \n",
       "1                                                    0.0   \n",
       "2                                                    0.0   \n",
       "3                                                    0.0   \n",
       "4                                                    0.0   \n",
       "\n",
       "variable  dim_0__variation_coefficient  \n",
       "0                        -6.406642e+05  \n",
       "1                         1.456394e+06  \n",
       "2                        -1.368852e+06  \n",
       "3                         5.009978e+07  \n",
       "4                        -3.131234e+06  \n",
       "\n",
       "[5 rows x 757 columns]"
      ]
     },
     "execution_count": 6,
     "metadata": {},
     "output_type": "execute_result"
    }
   ],
   "source": [
    "# tf = TsFreshTransfomer()\n",
    "t = TSFreshFeatureExtractor(default_fc_parameters=\"efficient\", show_warnings=False)\n",
    "Xt = t.fit_transform(X_train)\n",
    "Xt.head()"
   ]
  },
  {
   "cell_type": "markdown",
   "metadata": {},
   "source": [
    "## Using tsfresh with sktime"
   ]
  },
  {
   "cell_type": "code",
   "execution_count": 7,
   "metadata": {},
   "outputs": [
    {
     "name": "stderr",
     "output_type": "stream",
     "text": [
      "/Users/travis/build/alan-turing-institute/sktime/sktime/transformers/series_as_features/summarize/_tsfresh.py:150: UserWarning: Found non-unique index, replaced with unique index.\n",
      "  warn(\"Found non-unique index, replaced with unique index.\")\n"
     ]
    },
    {
     "name": "stderr",
     "output_type": "stream",
     "text": [
      "\r",
      "Feature Extraction:   0%|          | 0/5 [00:00<?, ?it/s]"
     ]
    },
    {
     "name": "stderr",
     "output_type": "stream",
     "text": [
      "\r",
      "Feature Extraction:  20%|██        | 1/5 [00:04<00:19,  4.92s/it]"
     ]
    },
    {
     "name": "stderr",
     "output_type": "stream",
     "text": [
      "\r",
      "Feature Extraction:  40%|████      | 2/5 [00:09<00:14,  4.76s/it]"
     ]
    },
    {
     "name": "stderr",
     "output_type": "stream",
     "text": [
      "\r",
      "Feature Extraction:  60%|██████    | 3/5 [00:13<00:09,  4.66s/it]"
     ]
    },
    {
     "name": "stderr",
     "output_type": "stream",
     "text": [
      "\r",
      "Feature Extraction:  80%|████████  | 4/5 [00:18<00:04,  4.58s/it]"
     ]
    },
    {
     "name": "stderr",
     "output_type": "stream",
     "text": [
      "\r",
      "Feature Extraction: 100%|██████████| 5/5 [00:22<00:00,  4.45s/it]"
     ]
    },
    {
     "name": "stderr",
     "output_type": "stream",
     "text": [
      "\r",
      "Feature Extraction: 100%|██████████| 5/5 [00:22<00:00,  4.46s/it]"
     ]
    },
    {
     "name": "stderr",
     "output_type": "stream",
     "text": [
      "\n"
     ]
    },
    {
     "name": "stderr",
     "output_type": "stream",
     "text": [
      "/Users/travis/build/alan-turing-institute/sktime/sktime/transformers/series_as_features/summarize/_tsfresh.py:150: UserWarning: Found non-unique index, replaced with unique index.\n",
      "  warn(\"Found non-unique index, replaced with unique index.\")\n"
     ]
    },
    {
     "name": "stderr",
     "output_type": "stream",
     "text": [
      "\r",
      "Feature Extraction:   0%|          | 0/5 [00:00<?, ?it/s]"
     ]
    },
    {
     "name": "stderr",
     "output_type": "stream",
     "text": [
      "\r",
      "Feature Extraction:  20%|██        | 1/5 [00:01<00:06,  1.61s/it]"
     ]
    },
    {
     "name": "stderr",
     "output_type": "stream",
     "text": [
      "\r",
      "Feature Extraction:  40%|████      | 2/5 [00:03<00:04,  1.58s/it]"
     ]
    },
    {
     "name": "stderr",
     "output_type": "stream",
     "text": [
      "\r",
      "Feature Extraction:  60%|██████    | 3/5 [00:04<00:03,  1.56s/it]"
     ]
    },
    {
     "name": "stderr",
     "output_type": "stream",
     "text": [
      "\r",
      "Feature Extraction:  80%|████████  | 4/5 [00:06<00:01,  1.56s/it]"
     ]
    },
    {
     "name": "stderr",
     "output_type": "stream",
     "text": [
      "\r",
      "Feature Extraction: 100%|██████████| 5/5 [00:07<00:00,  1.46s/it]"
     ]
    },
    {
     "name": "stderr",
     "output_type": "stream",
     "text": [
      "\r",
      "Feature Extraction: 100%|██████████| 5/5 [00:07<00:00,  1.49s/it]"
     ]
    },
    {
     "name": "stderr",
     "output_type": "stream",
     "text": [
      "\n"
     ]
    },
    {
     "data": {
      "text/plain": [
       "0.8113207547169812"
      ]
     },
     "execution_count": 7,
     "metadata": {},
     "output_type": "execute_result"
    }
   ],
   "source": [
    "classifier = make_pipeline(\n",
    "    TSFreshFeatureExtractor(default_fc_parameters=\"efficient\", show_warnings=False),\n",
    "    RandomForestClassifier()\n",
    ")\n",
    "classifier.fit(X_train, y_train)\n",
    "classifier.score(X_test, y_test)"
   ]
  },
  {
   "cell_type": "markdown",
   "metadata": {},
   "source": [
    "## Multivariate time series classification data"
   ]
  },
  {
   "cell_type": "code",
   "execution_count": 8,
   "metadata": {
    "scrolled": true
   },
   "outputs": [
    {
     "name": "stdout",
     "output_type": "stream",
     "text": [
      "(60, 6) (60,) (20, 6) (20,)\n"
     ]
    }
   ],
   "source": [
    "X, y = load_basic_motions(return_X_y=True)\n",
    "X_train, X_test, y_train, y_test = train_test_split(X, y)\n",
    "print(X_train.shape, y_train.shape, X_test.shape, y_test.shape)"
   ]
  },
  {
   "cell_type": "code",
   "execution_count": 9,
   "metadata": {
    "jupyter": {
     "outputs_hidden": false
    },
    "pycharm": {
     "name": "#%%\n"
    }
   },
   "outputs": [
    {
     "data": {
      "text/html": [
       "<div>\n",
       "<style scoped>\n",
       "    .dataframe tbody tr th:only-of-type {\n",
       "        vertical-align: middle;\n",
       "    }\n",
       "\n",
       "    .dataframe tbody tr th {\n",
       "        vertical-align: top;\n",
       "    }\n",
       "\n",
       "    .dataframe thead th {\n",
       "        text-align: right;\n",
       "    }\n",
       "</style>\n",
       "<table border=\"1\" class=\"dataframe\">\n",
       "  <thead>\n",
       "    <tr style=\"text-align: right;\">\n",
       "      <th></th>\n",
       "      <th>dim_0</th>\n",
       "      <th>dim_1</th>\n",
       "      <th>dim_2</th>\n",
       "      <th>dim_3</th>\n",
       "      <th>dim_4</th>\n",
       "      <th>dim_5</th>\n",
       "    </tr>\n",
       "  </thead>\n",
       "  <tbody>\n",
       "    <tr>\n",
       "      <th>14</th>\n",
       "      <td>0      1.186069\n",
       "1      1.186069\n",
       "2      0.02547...</td>\n",
       "      <td>0      0.013225\n",
       "1      0.013225\n",
       "2      1.92628...</td>\n",
       "      <td>0    -0.377872\n",
       "1    -0.377872\n",
       "2    -1.253871\n",
       "3...</td>\n",
       "      <td>0     0.367545\n",
       "1     0.367545\n",
       "2     0.221060\n",
       "3...</td>\n",
       "      <td>0    -0.253020\n",
       "1    -0.253020\n",
       "2    -0.500714\n",
       "3...</td>\n",
       "      <td>0     0.114525\n",
       "1     0.114525\n",
       "2    -0.173119\n",
       "3...</td>\n",
       "    </tr>\n",
       "    <tr>\n",
       "      <th>22</th>\n",
       "      <td>0     0.175924\n",
       "1     0.175924\n",
       "2     0.194403\n",
       "3...</td>\n",
       "      <td>0     0.548757\n",
       "1     0.548757\n",
       "2    -3.699192\n",
       "3...</td>\n",
       "      <td>0    -1.191314\n",
       "1    -1.191314\n",
       "2    -0.554051\n",
       "3...</td>\n",
       "      <td>0     0.039951\n",
       "1     0.039951\n",
       "2     0.042614\n",
       "3...</td>\n",
       "      <td>0     0.263674\n",
       "1     0.263674\n",
       "2    -0.178446\n",
       "3...</td>\n",
       "      <td>0     0.937507\n",
       "1     0.937507\n",
       "2     0.071911\n",
       "3...</td>\n",
       "    </tr>\n",
       "    <tr>\n",
       "      <th>0</th>\n",
       "      <td>0     0.079106\n",
       "1     0.079106\n",
       "2    -0.903497\n",
       "3...</td>\n",
       "      <td>0     0.394032\n",
       "1     0.394032\n",
       "2    -3.666397\n",
       "3...</td>\n",
       "      <td>0     0.551444\n",
       "1     0.551444\n",
       "2    -0.282844\n",
       "3...</td>\n",
       "      <td>0     0.351565\n",
       "1     0.351565\n",
       "2    -0.095881\n",
       "3...</td>\n",
       "      <td>0     0.023970\n",
       "1     0.023970\n",
       "2    -0.319605\n",
       "3...</td>\n",
       "      <td>0     0.633883\n",
       "1     0.633883\n",
       "2     0.972131\n",
       "3...</td>\n",
       "    </tr>\n",
       "    <tr>\n",
       "      <th>8</th>\n",
       "      <td>0     0.498121\n",
       "1     0.498121\n",
       "2     0.196889\n",
       "3...</td>\n",
       "      <td>0     0.031305\n",
       "1     0.031305\n",
       "2    -3.122323\n",
       "3...</td>\n",
       "      <td>0    -0.358509\n",
       "1    -0.358509\n",
       "2     0.258171\n",
       "3...</td>\n",
       "      <td>0     0.047941\n",
       "1     0.047941\n",
       "2     0.143822\n",
       "3...</td>\n",
       "      <td>0    -0.119852\n",
       "1    -0.119852\n",
       "2     0.015980\n",
       "3...</td>\n",
       "      <td>0     0.005327\n",
       "1     0.005327\n",
       "2     0.010653\n",
       "3...</td>\n",
       "    </tr>\n",
       "    <tr>\n",
       "      <th>17</th>\n",
       "      <td>0      0.324449\n",
       "1      0.324449\n",
       "2      9.29442...</td>\n",
       "      <td>0     -0.977516\n",
       "1     -0.977516\n",
       "2     -6.96322...</td>\n",
       "      <td>0    -1.260218\n",
       "1    -1.260218\n",
       "2    -2.498493\n",
       "3...</td>\n",
       "      <td>0    -0.788358\n",
       "1    -0.788358\n",
       "2     2.434323\n",
       "3...</td>\n",
       "      <td>0     0.316941\n",
       "1     0.316941\n",
       "2    -0.079901\n",
       "3...</td>\n",
       "      <td>0     0.588605\n",
       "1     0.588605\n",
       "2     6.535916\n",
       "3...</td>\n",
       "    </tr>\n",
       "  </tbody>\n",
       "</table>\n",
       "</div>"
      ],
      "text/plain": [
       "                                                dim_0  \\\n",
       "14  0      1.186069\n",
       "1      1.186069\n",
       "2      0.02547...   \n",
       "22  0     0.175924\n",
       "1     0.175924\n",
       "2     0.194403\n",
       "3...   \n",
       "0   0     0.079106\n",
       "1     0.079106\n",
       "2    -0.903497\n",
       "3...   \n",
       "8   0     0.498121\n",
       "1     0.498121\n",
       "2     0.196889\n",
       "3...   \n",
       "17  0      0.324449\n",
       "1      0.324449\n",
       "2      9.29442...   \n",
       "\n",
       "                                                dim_1  \\\n",
       "14  0      0.013225\n",
       "1      0.013225\n",
       "2      1.92628...   \n",
       "22  0     0.548757\n",
       "1     0.548757\n",
       "2    -3.699192\n",
       "3...   \n",
       "0   0     0.394032\n",
       "1     0.394032\n",
       "2    -3.666397\n",
       "3...   \n",
       "8   0     0.031305\n",
       "1     0.031305\n",
       "2    -3.122323\n",
       "3...   \n",
       "17  0     -0.977516\n",
       "1     -0.977516\n",
       "2     -6.96322...   \n",
       "\n",
       "                                                dim_2  \\\n",
       "14  0    -0.377872\n",
       "1    -0.377872\n",
       "2    -1.253871\n",
       "3...   \n",
       "22  0    -1.191314\n",
       "1    -1.191314\n",
       "2    -0.554051\n",
       "3...   \n",
       "0   0     0.551444\n",
       "1     0.551444\n",
       "2    -0.282844\n",
       "3...   \n",
       "8   0    -0.358509\n",
       "1    -0.358509\n",
       "2     0.258171\n",
       "3...   \n",
       "17  0    -1.260218\n",
       "1    -1.260218\n",
       "2    -2.498493\n",
       "3...   \n",
       "\n",
       "                                                dim_3  \\\n",
       "14  0     0.367545\n",
       "1     0.367545\n",
       "2     0.221060\n",
       "3...   \n",
       "22  0     0.039951\n",
       "1     0.039951\n",
       "2     0.042614\n",
       "3...   \n",
       "0   0     0.351565\n",
       "1     0.351565\n",
       "2    -0.095881\n",
       "3...   \n",
       "8   0     0.047941\n",
       "1     0.047941\n",
       "2     0.143822\n",
       "3...   \n",
       "17  0    -0.788358\n",
       "1    -0.788358\n",
       "2     2.434323\n",
       "3...   \n",
       "\n",
       "                                                dim_4  \\\n",
       "14  0    -0.253020\n",
       "1    -0.253020\n",
       "2    -0.500714\n",
       "3...   \n",
       "22  0     0.263674\n",
       "1     0.263674\n",
       "2    -0.178446\n",
       "3...   \n",
       "0   0     0.023970\n",
       "1     0.023970\n",
       "2    -0.319605\n",
       "3...   \n",
       "8   0    -0.119852\n",
       "1    -0.119852\n",
       "2     0.015980\n",
       "3...   \n",
       "17  0     0.316941\n",
       "1     0.316941\n",
       "2    -0.079901\n",
       "3...   \n",
       "\n",
       "                                                dim_5  \n",
       "14  0     0.114525\n",
       "1     0.114525\n",
       "2    -0.173119\n",
       "3...  \n",
       "22  0     0.937507\n",
       "1     0.937507\n",
       "2     0.071911\n",
       "3...  \n",
       "0   0     0.633883\n",
       "1     0.633883\n",
       "2     0.972131\n",
       "3...  \n",
       "8   0     0.005327\n",
       "1     0.005327\n",
       "2     0.010653\n",
       "3...  \n",
       "17  0     0.588605\n",
       "1     0.588605\n",
       "2     6.535916\n",
       "3...  "
      ]
     },
     "execution_count": 9,
     "metadata": {},
     "output_type": "execute_result"
    }
   ],
   "source": [
    "# multivariate input data\n",
    "X_train.head()"
   ]
  },
  {
   "cell_type": "code",
   "execution_count": 10,
   "metadata": {
    "scrolled": true
   },
   "outputs": [
    {
     "name": "stderr",
     "output_type": "stream",
     "text": [
      "/Users/travis/build/alan-turing-institute/sktime/sktime/transformers/series_as_features/summarize/_tsfresh.py:150: UserWarning: Found non-unique index, replaced with unique index.\n",
      "  warn(\"Found non-unique index, replaced with unique index.\")\n"
     ]
    },
    {
     "name": "stderr",
     "output_type": "stream",
     "text": [
      "\r",
      "Feature Extraction:   0%|          | 0/5 [00:00<?, ?it/s]"
     ]
    },
    {
     "name": "stderr",
     "output_type": "stream",
     "text": [
      "\r",
      "Feature Extraction:  20%|██        | 1/5 [00:08<00:32,  8.15s/it]"
     ]
    },
    {
     "name": "stderr",
     "output_type": "stream",
     "text": [
      "\r",
      "Feature Extraction:  40%|████      | 2/5 [00:15<00:23,  7.97s/it]"
     ]
    },
    {
     "name": "stderr",
     "output_type": "stream",
     "text": [
      "\r",
      "Feature Extraction:  60%|██████    | 3/5 [00:23<00:15,  7.91s/it]"
     ]
    },
    {
     "name": "stderr",
     "output_type": "stream",
     "text": [
      "\r",
      "Feature Extraction:  80%|████████  | 4/5 [00:31<00:07,  7.87s/it]"
     ]
    },
    {
     "name": "stderr",
     "output_type": "stream",
     "text": [
      "\r",
      "Feature Extraction: 100%|██████████| 5/5 [00:38<00:00,  7.81s/it]"
     ]
    },
    {
     "name": "stderr",
     "output_type": "stream",
     "text": [
      "\r",
      "Feature Extraction: 100%|██████████| 5/5 [00:38<00:00,  7.78s/it]"
     ]
    },
    {
     "name": "stderr",
     "output_type": "stream",
     "text": [
      "\n"
     ]
    },
    {
     "data": {
      "text/html": [
       "<div>\n",
       "<style scoped>\n",
       "    .dataframe tbody tr th:only-of-type {\n",
       "        vertical-align: middle;\n",
       "    }\n",
       "\n",
       "    .dataframe tbody tr th {\n",
       "        vertical-align: top;\n",
       "    }\n",
       "\n",
       "    .dataframe thead th {\n",
       "        text-align: right;\n",
       "    }\n",
       "</style>\n",
       "<table border=\"1\" class=\"dataframe\">\n",
       "  <thead>\n",
       "    <tr style=\"text-align: right;\">\n",
       "      <th>variable</th>\n",
       "      <th>dim_0__abs_energy</th>\n",
       "      <th>dim_0__absolute_sum_of_changes</th>\n",
       "      <th>dim_0__agg_autocorrelation__f_agg_\"mean\"__maxlag_40</th>\n",
       "      <th>dim_0__agg_autocorrelation__f_agg_\"median\"__maxlag_40</th>\n",
       "      <th>dim_0__agg_autocorrelation__f_agg_\"var\"__maxlag_40</th>\n",
       "      <th>dim_0__agg_linear_trend__attr_\"intercept\"__chunk_len_10__f_agg_\"max\"</th>\n",
       "      <th>dim_0__agg_linear_trend__attr_\"intercept\"__chunk_len_10__f_agg_\"mean\"</th>\n",
       "      <th>dim_0__agg_linear_trend__attr_\"intercept\"__chunk_len_10__f_agg_\"min\"</th>\n",
       "      <th>dim_0__agg_linear_trend__attr_\"intercept\"__chunk_len_10__f_agg_\"var\"</th>\n",
       "      <th>dim_0__agg_linear_trend__attr_\"intercept\"__chunk_len_50__f_agg_\"max\"</th>\n",
       "      <th>...</th>\n",
       "      <th>dim_5__symmetry_looking__r_0.9500000000000001</th>\n",
       "      <th>dim_5__time_reversal_asymmetry_statistic__lag_1</th>\n",
       "      <th>dim_5__time_reversal_asymmetry_statistic__lag_2</th>\n",
       "      <th>dim_5__time_reversal_asymmetry_statistic__lag_3</th>\n",
       "      <th>dim_5__value_count__value_-1</th>\n",
       "      <th>dim_5__value_count__value_0</th>\n",
       "      <th>dim_5__value_count__value_1</th>\n",
       "      <th>dim_5__variance</th>\n",
       "      <th>dim_5__variance_larger_than_standard_deviation</th>\n",
       "      <th>dim_5__variation_coefficient</th>\n",
       "    </tr>\n",
       "  </thead>\n",
       "  <tbody>\n",
       "    <tr>\n",
       "      <th>0</th>\n",
       "      <td>15899.872790</td>\n",
       "      <td>936.942443</td>\n",
       "      <td>-0.011471</td>\n",
       "      <td>-0.101987</td>\n",
       "      <td>0.132759</td>\n",
       "      <td>18.427284</td>\n",
       "      <td>4.244860</td>\n",
       "      <td>-14.080067</td>\n",
       "      <td>116.261213</td>\n",
       "      <td>21.038130</td>\n",
       "      <td>...</td>\n",
       "      <td>1.0</td>\n",
       "      <td>6.013089</td>\n",
       "      <td>15.974199</td>\n",
       "      <td>78.793027</td>\n",
       "      <td>0.0</td>\n",
       "      <td>0.0</td>\n",
       "      <td>0.0</td>\n",
       "      <td>33.619891</td>\n",
       "      <td>1.0</td>\n",
       "      <td>59.792330</td>\n",
       "    </tr>\n",
       "    <tr>\n",
       "      <th>1</th>\n",
       "      <td>383.560959</td>\n",
       "      <td>127.018210</td>\n",
       "      <td>-0.000228</td>\n",
       "      <td>0.001823</td>\n",
       "      <td>0.125313</td>\n",
       "      <td>3.757798</td>\n",
       "      <td>1.359549</td>\n",
       "      <td>-0.846660</td>\n",
       "      <td>2.566076</td>\n",
       "      <td>4.442557</td>\n",
       "      <td>...</td>\n",
       "      <td>1.0</td>\n",
       "      <td>0.253500</td>\n",
       "      <td>0.439563</td>\n",
       "      <td>1.125258</td>\n",
       "      <td>0.0</td>\n",
       "      <td>0.0</td>\n",
       "      <td>0.0</td>\n",
       "      <td>2.834777</td>\n",
       "      <td>1.0</td>\n",
       "      <td>-56.442891</td>\n",
       "    </tr>\n",
       "    <tr>\n",
       "      <th>2</th>\n",
       "      <td>10.629914</td>\n",
       "      <td>22.690124</td>\n",
       "      <td>0.039365</td>\n",
       "      <td>0.029099</td>\n",
       "      <td>0.008885</td>\n",
       "      <td>1.021608</td>\n",
       "      <td>0.068493</td>\n",
       "      <td>-0.493076</td>\n",
       "      <td>0.172195</td>\n",
       "      <td>1.638200</td>\n",
       "      <td>...</td>\n",
       "      <td>1.0</td>\n",
       "      <td>0.019919</td>\n",
       "      <td>-0.005089</td>\n",
       "      <td>-0.028410</td>\n",
       "      <td>0.0</td>\n",
       "      <td>0.0</td>\n",
       "      <td>0.0</td>\n",
       "      <td>0.260379</td>\n",
       "      <td>0.0</td>\n",
       "      <td>9.377847</td>\n",
       "    </tr>\n",
       "    <tr>\n",
       "      <th>3</th>\n",
       "      <td>9.806233</td>\n",
       "      <td>19.646853</td>\n",
       "      <td>0.008286</td>\n",
       "      <td>0.009657</td>\n",
       "      <td>0.029126</td>\n",
       "      <td>0.480531</td>\n",
       "      <td>-0.025416</td>\n",
       "      <td>-0.654871</td>\n",
       "      <td>0.153734</td>\n",
       "      <td>0.979739</td>\n",
       "      <td>...</td>\n",
       "      <td>1.0</td>\n",
       "      <td>0.000909</td>\n",
       "      <td>0.004847</td>\n",
       "      <td>0.008813</td>\n",
       "      <td>0.0</td>\n",
       "      <td>3.0</td>\n",
       "      <td>0.0</td>\n",
       "      <td>0.123778</td>\n",
       "      <td>0.0</td>\n",
       "      <td>44.626858</td>\n",
       "    </tr>\n",
       "    <tr>\n",
       "      <th>4</th>\n",
       "      <td>13876.020277</td>\n",
       "      <td>736.256653</td>\n",
       "      <td>0.005391</td>\n",
       "      <td>-0.171305</td>\n",
       "      <td>0.184510</td>\n",
       "      <td>14.628194</td>\n",
       "      <td>5.399811</td>\n",
       "      <td>-12.349274</td>\n",
       "      <td>75.352924</td>\n",
       "      <td>18.280817</td>\n",
       "      <td>...</td>\n",
       "      <td>1.0</td>\n",
       "      <td>2.145671</td>\n",
       "      <td>14.394118</td>\n",
       "      <td>24.538999</td>\n",
       "      <td>0.0</td>\n",
       "      <td>0.0</td>\n",
       "      <td>0.0</td>\n",
       "      <td>26.763240</td>\n",
       "      <td>1.0</td>\n",
       "      <td>-23.953564</td>\n",
       "    </tr>\n",
       "  </tbody>\n",
       "</table>\n",
       "<p>5 rows × 4542 columns</p>\n",
       "</div>"
      ],
      "text/plain": [
       "variable  dim_0__abs_energy  dim_0__absolute_sum_of_changes  \\\n",
       "0              15899.872790                      936.942443   \n",
       "1                383.560959                      127.018210   \n",
       "2                 10.629914                       22.690124   \n",
       "3                  9.806233                       19.646853   \n",
       "4              13876.020277                      736.256653   \n",
       "\n",
       "variable  dim_0__agg_autocorrelation__f_agg_\"mean\"__maxlag_40  \\\n",
       "0                                                 -0.011471     \n",
       "1                                                 -0.000228     \n",
       "2                                                  0.039365     \n",
       "3                                                  0.008286     \n",
       "4                                                  0.005391     \n",
       "\n",
       "variable  dim_0__agg_autocorrelation__f_agg_\"median\"__maxlag_40  \\\n",
       "0                                                 -0.101987       \n",
       "1                                                  0.001823       \n",
       "2                                                  0.029099       \n",
       "3                                                  0.009657       \n",
       "4                                                 -0.171305       \n",
       "\n",
       "variable  dim_0__agg_autocorrelation__f_agg_\"var\"__maxlag_40  \\\n",
       "0                                                  0.132759    \n",
       "1                                                  0.125313    \n",
       "2                                                  0.008885    \n",
       "3                                                  0.029126    \n",
       "4                                                  0.184510    \n",
       "\n",
       "variable  dim_0__agg_linear_trend__attr_\"intercept\"__chunk_len_10__f_agg_\"max\"  \\\n",
       "0                                                 18.427284                      \n",
       "1                                                  3.757798                      \n",
       "2                                                  1.021608                      \n",
       "3                                                  0.480531                      \n",
       "4                                                 14.628194                      \n",
       "\n",
       "variable  dim_0__agg_linear_trend__attr_\"intercept\"__chunk_len_10__f_agg_\"mean\"  \\\n",
       "0                                                  4.244860                       \n",
       "1                                                  1.359549                       \n",
       "2                                                  0.068493                       \n",
       "3                                                 -0.025416                       \n",
       "4                                                  5.399811                       \n",
       "\n",
       "variable  dim_0__agg_linear_trend__attr_\"intercept\"__chunk_len_10__f_agg_\"min\"  \\\n",
       "0                                                -14.080067                      \n",
       "1                                                 -0.846660                      \n",
       "2                                                 -0.493076                      \n",
       "3                                                 -0.654871                      \n",
       "4                                                -12.349274                      \n",
       "\n",
       "variable  dim_0__agg_linear_trend__attr_\"intercept\"__chunk_len_10__f_agg_\"var\"  \\\n",
       "0                                                116.261213                      \n",
       "1                                                  2.566076                      \n",
       "2                                                  0.172195                      \n",
       "3                                                  0.153734                      \n",
       "4                                                 75.352924                      \n",
       "\n",
       "variable  dim_0__agg_linear_trend__attr_\"intercept\"__chunk_len_50__f_agg_\"max\"  \\\n",
       "0                                                 21.038130                      \n",
       "1                                                  4.442557                      \n",
       "2                                                  1.638200                      \n",
       "3                                                  0.979739                      \n",
       "4                                                 18.280817                      \n",
       "\n",
       "variable  ...  dim_5__symmetry_looking__r_0.9500000000000001  \\\n",
       "0         ...                                            1.0   \n",
       "1         ...                                            1.0   \n",
       "2         ...                                            1.0   \n",
       "3         ...                                            1.0   \n",
       "4         ...                                            1.0   \n",
       "\n",
       "variable  dim_5__time_reversal_asymmetry_statistic__lag_1  \\\n",
       "0                                                6.013089   \n",
       "1                                                0.253500   \n",
       "2                                                0.019919   \n",
       "3                                                0.000909   \n",
       "4                                                2.145671   \n",
       "\n",
       "variable  dim_5__time_reversal_asymmetry_statistic__lag_2  \\\n",
       "0                                               15.974199   \n",
       "1                                                0.439563   \n",
       "2                                               -0.005089   \n",
       "3                                                0.004847   \n",
       "4                                               14.394118   \n",
       "\n",
       "variable  dim_5__time_reversal_asymmetry_statistic__lag_3  \\\n",
       "0                                               78.793027   \n",
       "1                                                1.125258   \n",
       "2                                               -0.028410   \n",
       "3                                                0.008813   \n",
       "4                                               24.538999   \n",
       "\n",
       "variable  dim_5__value_count__value_-1  dim_5__value_count__value_0  \\\n",
       "0                                  0.0                          0.0   \n",
       "1                                  0.0                          0.0   \n",
       "2                                  0.0                          0.0   \n",
       "3                                  0.0                          3.0   \n",
       "4                                  0.0                          0.0   \n",
       "\n",
       "variable  dim_5__value_count__value_1  dim_5__variance  \\\n",
       "0                                 0.0        33.619891   \n",
       "1                                 0.0         2.834777   \n",
       "2                                 0.0         0.260379   \n",
       "3                                 0.0         0.123778   \n",
       "4                                 0.0        26.763240   \n",
       "\n",
       "variable  dim_5__variance_larger_than_standard_deviation  \\\n",
       "0                                                    1.0   \n",
       "1                                                    1.0   \n",
       "2                                                    0.0   \n",
       "3                                                    0.0   \n",
       "4                                                    1.0   \n",
       "\n",
       "variable  dim_5__variation_coefficient  \n",
       "0                            59.792330  \n",
       "1                           -56.442891  \n",
       "2                             9.377847  \n",
       "3                            44.626858  \n",
       "4                           -23.953564  \n",
       "\n",
       "[5 rows x 4542 columns]"
      ]
     },
     "execution_count": 10,
     "metadata": {},
     "output_type": "execute_result"
    }
   ],
   "source": [
    "t = TSFreshFeatureExtractor(default_fc_parameters=\"efficient\", show_warnings=False)\n",
    "Xt = t.fit_transform(X_train)\n",
    "Xt.head()"
   ]
  }
 ],
 "metadata": {
  "kernelspec": {
   "display_name": "Python 3",
   "language": "python",
   "name": "python3"
  },
  "language_info": {
   "codemirror_mode": {
    "name": "ipython",
    "version": 3
   },
   "file_extension": ".py",
   "mimetype": "text/x-python",
   "name": "python",
   "nbconvert_exporter": "python",
   "pygments_lexer": "ipython3",
   "version": "3.7.7"
  }
 },
 "nbformat": 4,
 "nbformat_minor": 4
}
