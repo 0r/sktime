{
 "cells": [
  {
   "cell_type": "markdown",
   "metadata": {},
   "source": [
    "## High-level design interface"
   ]
  },
  {
   "cell_type": "code",
   "execution_count": 17,
   "metadata": {},
   "outputs": [],
   "source": [
    "from abc import ABCMeta, abstractmethod\n",
    "from sklearn.base import BaseEstimator\n",
    "\n",
    "        \n",
    "class TSClassifier(BaseEstimator):\n",
    "    def fit(self, data):\n",
    "        print(f'Fitting classifier on data with {data.nrows} rows.')\n",
    "        \n",
    "    def predict(self, data):\n",
    "        print(f'Predicting {data.nrows} rows.')\n",
    "\n",
    "        \n",
    "class Task:\n",
    "    def __init__(self, data, specs=None):\n",
    "        self.specs = specs\n",
    "        self.data = data\n",
    "        print('Specifying task.')\n",
    "    \n",
    "    def setup_fit(self):\n",
    "        print('Setting up task for fitting.')\n",
    "        \n",
    "    def setup_predict(self):\n",
    "        print('Setting up task for predicting.')\n",
    "        \n",
    "        \n",
    "NOT_IMPLEMENTED = \"Needs to be implemented.\"\n",
    "class BaseStrategy:\n",
    "    __metaclass__ = ABCMeta\n",
    "    @abstractmethod\n",
    "    def __init__(self, estimator):\n",
    "        self.estimator = estimator\n",
    "        self.task = None\n",
    "    \n",
    "    @abstractmethod\n",
    "    def fit(self, task, data=None):\n",
    "        raise NotImplementedError(NOT_IMPLEMENTED)\n",
    "        \n",
    "    @abstractmethod\n",
    "    def predict(self, data=None):\n",
    "        raise NotImplementedError(NOT_IMPLEMENTED)\n",
    "    \n",
    "    @abstractmethod\n",
    "    def set_params(self):\n",
    "        self.estimator.set_params()\n",
    "        \n",
    "    @abstractmethod\n",
    "    def get_params(self):\n",
    "        self.estimator.get_params()\n",
    "        \n",
    "        \n",
    "class Strategy(BaseStrategy):\n",
    "    def fit(self, task, data=None):\n",
    "        self.task = task\n",
    "        \n",
    "        task.setup_fit()\n",
    "        if data is None:\n",
    "            data = task.data\n",
    "        self.estimator.fit(data)\n",
    "    \n",
    "    def predict(self, data=None):\n",
    "        if data is None:\n",
    "            data = self.task.data\n",
    "        self.task.setup_predict()\n",
    "        self.estimator.predict(data)\n",
    "\n",
    "\n",
    "class XPandas:\n",
    "    def __init__(self, nrows):\n",
    "        self.nrows = nrows    "
   ]
  },
  {
   "cell_type": "code",
   "execution_count": 18,
   "metadata": {},
   "outputs": [
    {
     "name": "stdout",
     "output_type": "stream",
     "text": [
      "Specifying task.\n",
      "Setting up task for fitting.\n",
      "Fitting classifier on data with 100 rows.\n",
      "Setting up task for predicting.\n",
      "Predicting 100 rows.\n"
     ]
    }
   ],
   "source": [
    "data = XPandas(nrows=100)\n",
    "estimator = TSClassifier()\n",
    "task = Task(data)\n",
    "strategy = Strategy(estimator)       \n",
    "strategy.fit(task)\n",
    "strategy.predict()"
   ]
  }
 ],
 "metadata": {
  "kernelspec": {
   "display_name": "Python 3",
   "language": "python",
   "name": "python3"
  },
  "language_info": {
   "codemirror_mode": {
    "name": "ipython",
    "version": 3
   },
   "file_extension": ".py",
   "mimetype": "text/x-python",
   "name": "python",
   "nbconvert_exporter": "python",
   "pygments_lexer": "ipython3",
   "version": "3.6.5"
  }
 },
 "nbformat": 4,
 "nbformat_minor": 2
}
